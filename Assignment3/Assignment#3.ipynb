{
 "cells": [
  {
   "cell_type": "code",
   "execution_count": 1,
   "metadata": {},
   "outputs": [],
   "source": [
    "#import MongoClient\n",
    "from pymongo import MongoClient"
   ]
  },
  {
   "cell_type": "code",
   "execution_count": 2,
   "metadata": {},
   "outputs": [],
   "source": [
    "# pprint library is used to make the output look more pretty\n",
    "from pprint import pprint"
   ]
  },
  {
   "cell_type": "code",
   "execution_count": 13,
   "metadata": {},
   "outputs": [],
   "source": [
    "#Provide details of the database and connect\n",
    "url=\"mongodb://localhost:27017/\"\n",
    "client=MongoClient(url)\n",
    "db=client['Organizer']"
   ]
  },
  {
   "cell_type": "code",
   "execution_count": 16,
   "metadata": {},
   "outputs": [
    {
     "name": "stdout",
     "output_type": "stream",
     "text": [
      "Collections dropped successfully\n"
     ]
    }
   ],
   "source": [
    "#Drop collections since I need to recreate them but otherwise would not need this section\n",
    "db.Student.drop()\n",
    "db.City.drop()\n",
    "db.Country.drop()\n",
    "db.Courses.drop()\n",
    "print(\"Collections dropped successfully\")"
   ]
  },
  {
   "cell_type": "code",
   "execution_count": 23,
   "metadata": {},
   "outputs": [],
   "source": [
    "#create collections\n",
    "collection=db.Student"
   ]
  },
  {
   "cell_type": "code",
   "execution_count": 24,
   "metadata": {},
   "outputs": [
    {
     "name": "stdout",
     "output_type": "stream",
     "text": [
      "Records saved successfully\n"
     ]
    }
   ],
   "source": [
    "#Add records to the collection Student\n",
    "db.Student.insert_one({\"First_Name\":\"Judy\",\"Last_Name\":\"Kimeu\",\"Email\":\"judykimeu10@gmail.com\",\"Cellphone\":\"0205154500\",\"Physical_Address\":\"Meru\",\"Gender\":\"Female\", \"City_Code\":\"1\", \"Country_Code\":\"1\", \"CourseID\":\"2\", \"StudentID\":\"1\"})\n",
    "db.Student.insert_one({\"First_Name\":\"Eric\",\"Last_Name\":\"Lagat\",\"Email\":\"lagateric@gmail.com\",\"Cellphone\":\"0205155500\",\"Physical_Address\":\"Baringo\",\"Gender\":\"Male\", \"City_Code\":\"1\", \"Country_Code\":\"1\", \"CourseID\":\"3\", \"StudentID\":\"2\"})\n",
    "db.Student.insert_one({\"First_Name\":\"Henry\",\"Last_Name\":\"Taute\",\"Email\":\"taute@yahoo.com\",\"Cellphone\":\"0205156500\",\"Physical_Address\":\"Homabay\",\"Gender\":\"Male\", \"City_Code\":\"2\", \"Country_Code\":\"2\", \"CourseID\":\"2\", \"StudentID\":\"3\"})\n",
    "db.Student.insert_one({\"First_Name\":\"Maurine\",\"Last_Name\":\"Njoki\",\"Email\":\"njoki_maurine@hotmail.com\",\"Cellphone\":\"0205157500\",\"Physical_Address\":\"Nairobi\",\"Gender\":\"Female\", \"City_Code\":\"3\", \"Country_Code\":\"3\", \"CourseID\":\"1\", \"StudentID\":\"4\"})\n",
    "db.Student.insert_one({\"First_Name\":\"Fatme\",\"Last_Name\":\"Gatheru\",\"Email\":\"fatme_gatheru@yahoo.com\",\"Cellphone\":\"0205158500\",\"Physical_Address\":\"Meru\",\"Gender\":\"Female\", \"City_Code\":\"3\", \"Country_Code\":\"3\", \"CourseID\":\"4\", \"StudentID\":\"5\"})\n",
    "print(\"Records saved successfully\")"
   ]
  },
  {
   "cell_type": "code",
   "execution_count": 25,
   "metadata": {},
   "outputs": [
    {
     "name": "stdout",
     "output_type": "stream",
     "text": [
      "{'Cellphone': '0205154500',\n",
      " 'City_Code': '1',\n",
      " 'Country_Code': '1',\n",
      " 'CourseID': '2',\n",
      " 'Email': 'judykimeu10@gmail.com',\n",
      " 'First_Name': 'Judy',\n",
      " 'Gender': 'Female',\n",
      " 'Last_Name': 'Kimeu',\n",
      " 'Physical_Address': 'Meru',\n",
      " 'StudentID': '1',\n",
      " '_id': ObjectId('611e5a4e92c2728916f8fb35')}\n",
      "{'Cellphone': '0205155500',\n",
      " 'City_Code': '1',\n",
      " 'Country_Code': '1',\n",
      " 'CourseID': '3',\n",
      " 'Email': 'lagateric@gmail.com',\n",
      " 'First_Name': 'Eric',\n",
      " 'Gender': 'Male',\n",
      " 'Last_Name': 'Lagat',\n",
      " 'Physical_Address': 'Baringo',\n",
      " 'StudentID': '2',\n",
      " '_id': ObjectId('611e5a4e92c2728916f8fb36')}\n",
      "{'Cellphone': '0205156500',\n",
      " 'City_Code': '2',\n",
      " 'Country_Code': '2',\n",
      " 'CourseID': '2',\n",
      " 'Email': 'taute@yahoo.com',\n",
      " 'First_Name': 'Henry',\n",
      " 'Gender': 'Male',\n",
      " 'Last_Name': 'Taute',\n",
      " 'Physical_Address': 'Homabay',\n",
      " 'StudentID': '3',\n",
      " '_id': ObjectId('611e5a4e92c2728916f8fb37')}\n",
      "{'Cellphone': '0205157500',\n",
      " 'City_Code': '3',\n",
      " 'Country_Code': '3',\n",
      " 'CourseID': '1',\n",
      " 'Email': 'njoki_maurine@hotmail.com',\n",
      " 'First_Name': 'Maurine',\n",
      " 'Gender': 'Female',\n",
      " 'Last_Name': 'Njoki',\n",
      " 'Physical_Address': 'Nairobi',\n",
      " 'StudentID': '4',\n",
      " '_id': ObjectId('611e5a4e92c2728916f8fb38')}\n",
      "{'Cellphone': '0205158500',\n",
      " 'City_Code': '3',\n",
      " 'Country_Code': '3',\n",
      " 'CourseID': '4',\n",
      " 'Email': 'fatme_gatheru@yahoo.com',\n",
      " 'First_Name': 'Fatme',\n",
      " 'Gender': 'Female',\n",
      " 'Last_Name': 'Gatheru',\n",
      " 'Physical_Address': 'Meru',\n",
      " 'StudentID': '5',\n",
      " '_id': ObjectId('611e5a4e92c2728916f8fb39')}\n"
     ]
    }
   ],
   "source": [
    "#Retrieve the records\n",
    "result=db.Student.find()\n",
    "for row in result:\n",
    "    pprint (row)"
   ]
  },
  {
   "cell_type": "code",
   "execution_count": 26,
   "metadata": {},
   "outputs": [],
   "source": [
    "#create collections/ tables\n",
    "collection=db.City\n",
    "collection=db.Country\n",
    "collection=db.Courses"
   ]
  },
  {
   "cell_type": "code",
   "execution_count": 27,
   "metadata": {},
   "outputs": [
    {
     "name": "stdout",
     "output_type": "stream",
     "text": [
      "Records saved successfully\n"
     ]
    }
   ],
   "source": [
    "#Add records to the collection City\n",
    "cities={\"City_Code\":\"1\", 'city_name':'Nairobi'}, {\"City_Code\":\"2\",'city_name':'Kampala'}, {\"City_Code\":\"3\",'city_name':'Dar es Salam'}\n",
    "db.City.insert_many(cities)\n",
    "print('Records saved successfully')"
   ]
  },
  {
   "cell_type": "code",
   "execution_count": 28,
   "metadata": {},
   "outputs": [
    {
     "name": "stdout",
     "output_type": "stream",
     "text": [
      "{'City_Code': '1',\n",
      " '_id': ObjectId('611e5a6b92c2728916f8fb3a'),\n",
      " 'city_name': 'Nairobi'}\n",
      "{'City_Code': '2',\n",
      " '_id': ObjectId('611e5a6b92c2728916f8fb3b'),\n",
      " 'city_name': 'Kampala'}\n",
      "{'City_Code': '3',\n",
      " '_id': ObjectId('611e5a6b92c2728916f8fb3c'),\n",
      " 'city_name': 'Dar es Salam'}\n"
     ]
    }
   ],
   "source": [
    "#retrieve records saved in City collection\n",
    "result=db.City.find()\n",
    "for row in result:\n",
    "    pprint(row)"
   ]
  },
  {
   "cell_type": "code",
   "execution_count": 29,
   "metadata": {},
   "outputs": [
    {
     "name": "stdout",
     "output_type": "stream",
     "text": [
      "Records  saved successfully\n"
     ]
    }
   ],
   "source": [
    "#Add records to the collection Country\n",
    "countries={\"Country_Code\":\"1\", 'Country_Name':'Kenya'}, {\"Country_Code\":\"2\", 'Country_Name':'Uganda'}, {\"Country_Code\":\"3\",'Country_Name':'Tanzania'}\n",
    "db.Country.insert_many(countries)\n",
    "print('Records  saved successfully')"
   ]
  },
  {
   "cell_type": "code",
   "execution_count": 30,
   "metadata": {},
   "outputs": [
    {
     "name": "stdout",
     "output_type": "stream",
     "text": [
      "{'Country_Code': '1',\n",
      " 'Country_Name': 'Kenya',\n",
      " '_id': ObjectId('611e5a8292c2728916f8fb3d')}\n",
      "{'Country_Code': '2',\n",
      " 'Country_Name': 'Uganda',\n",
      " '_id': ObjectId('611e5a8292c2728916f8fb3e')}\n",
      "{'Country_Code': '3',\n",
      " 'Country_Name': 'Tanzania',\n",
      " '_id': ObjectId('611e5a8292c2728916f8fb3f')}\n"
     ]
    }
   ],
   "source": [
    "#retrieve saved records in Country\n",
    "result=db.Country.find()\n",
    "for row in result:\n",
    "    pprint(row)"
   ]
  },
  {
   "cell_type": "code",
   "execution_count": 31,
   "metadata": {},
   "outputs": [
    {
     "name": "stdout",
     "output_type": "stream",
     "text": [
      "Records saved successfully\n"
     ]
    }
   ],
   "source": [
    "#Add records to table Courses\n",
    "course={\"CourseID\":\"1\", 'Course_Name':'Engineering'}, {\"CourseID\":\"2\", 'Course_Name':'Medicine'}, {\"CourseID\":\"3\", 'Course_Name':'Law'}, {\"CourseID\":\"4\", 'Course_Name':'Education'}, {\"CourseID\":\"5\",'Course_Name':'Arts'}\n",
    "db.Courses.insert_many(course)\n",
    "print('Records saved successfully')"
   ]
  },
  {
   "cell_type": "code",
   "execution_count": 32,
   "metadata": {},
   "outputs": [
    {
     "name": "stdout",
     "output_type": "stream",
     "text": [
      "{'CourseID': '1',\n",
      " 'Course_Name': 'Engineering',\n",
      " '_id': ObjectId('611e5a9792c2728916f8fb40')}\n",
      "{'CourseID': '2',\n",
      " 'Course_Name': 'Medicine',\n",
      " '_id': ObjectId('611e5a9792c2728916f8fb41')}\n",
      "{'CourseID': '3',\n",
      " 'Course_Name': 'Law',\n",
      " '_id': ObjectId('611e5a9792c2728916f8fb42')}\n",
      "{'CourseID': '4',\n",
      " 'Course_Name': 'Education',\n",
      " '_id': ObjectId('611e5a9792c2728916f8fb43')}\n",
      "{'CourseID': '5',\n",
      " 'Course_Name': 'Arts',\n",
      " '_id': ObjectId('611e5a9792c2728916f8fb44')}\n"
     ]
    }
   ],
   "source": [
    "#retrieve saved records\n",
    "result=db.Courses.find()\n",
    "for row in result:\n",
    "    pprint(row)\n"
   ]
  },
  {
   "cell_type": "code",
   "execution_count": 39,
   "metadata": {},
   "outputs": [],
   "source": [
    "#display data as dataframes using Pandas library\n",
    "import pandas as pd"
   ]
  },
  {
   "cell_type": "code",
   "execution_count": 42,
   "metadata": {},
   "outputs": [
    {
     "data": {
      "text/html": [
       "<div>\n",
       "<style scoped>\n",
       "    .dataframe tbody tr th:only-of-type {\n",
       "        vertical-align: middle;\n",
       "    }\n",
       "\n",
       "    .dataframe tbody tr th {\n",
       "        vertical-align: top;\n",
       "    }\n",
       "\n",
       "    .dataframe thead th {\n",
       "        text-align: right;\n",
       "    }\n",
       "</style>\n",
       "<table border=\"1\" class=\"dataframe\">\n",
       "  <thead>\n",
       "    <tr style=\"text-align: right;\">\n",
       "      <th></th>\n",
       "      <th>First_Name</th>\n",
       "      <th>Last_Name</th>\n",
       "      <th>Email</th>\n",
       "      <th>Cellphone</th>\n",
       "      <th>Physical_Address</th>\n",
       "      <th>Gender</th>\n",
       "      <th>City_Code</th>\n",
       "      <th>Country_Code</th>\n",
       "      <th>CourseID</th>\n",
       "    </tr>\n",
       "    <tr>\n",
       "      <th>StudentID</th>\n",
       "      <th></th>\n",
       "      <th></th>\n",
       "      <th></th>\n",
       "      <th></th>\n",
       "      <th></th>\n",
       "      <th></th>\n",
       "      <th></th>\n",
       "      <th></th>\n",
       "      <th></th>\n",
       "    </tr>\n",
       "  </thead>\n",
       "  <tbody>\n",
       "    <tr>\n",
       "      <th>1</th>\n",
       "      <td>Judy</td>\n",
       "      <td>Kimeu</td>\n",
       "      <td>judykimeu10@gmail.com</td>\n",
       "      <td>0205154500</td>\n",
       "      <td>Meru</td>\n",
       "      <td>Female</td>\n",
       "      <td>1</td>\n",
       "      <td>1</td>\n",
       "      <td>2</td>\n",
       "    </tr>\n",
       "    <tr>\n",
       "      <th>2</th>\n",
       "      <td>Eric</td>\n",
       "      <td>Lagat</td>\n",
       "      <td>lagateric@gmail.com</td>\n",
       "      <td>0205155500</td>\n",
       "      <td>Baringo</td>\n",
       "      <td>Male</td>\n",
       "      <td>1</td>\n",
       "      <td>1</td>\n",
       "      <td>3</td>\n",
       "    </tr>\n",
       "    <tr>\n",
       "      <th>3</th>\n",
       "      <td>Henry</td>\n",
       "      <td>Taute</td>\n",
       "      <td>taute@yahoo.com</td>\n",
       "      <td>0205156500</td>\n",
       "      <td>Homabay</td>\n",
       "      <td>Male</td>\n",
       "      <td>2</td>\n",
       "      <td>2</td>\n",
       "      <td>2</td>\n",
       "    </tr>\n",
       "    <tr>\n",
       "      <th>4</th>\n",
       "      <td>Maurine</td>\n",
       "      <td>Njoki</td>\n",
       "      <td>njoki_maurine@hotmail.com</td>\n",
       "      <td>0205157500</td>\n",
       "      <td>Nairobi</td>\n",
       "      <td>Female</td>\n",
       "      <td>3</td>\n",
       "      <td>3</td>\n",
       "      <td>1</td>\n",
       "    </tr>\n",
       "    <tr>\n",
       "      <th>5</th>\n",
       "      <td>Fatme</td>\n",
       "      <td>Gatheru</td>\n",
       "      <td>fatme_gatheru@yahoo.com</td>\n",
       "      <td>0205158500</td>\n",
       "      <td>Meru</td>\n",
       "      <td>Female</td>\n",
       "      <td>3</td>\n",
       "      <td>3</td>\n",
       "      <td>4</td>\n",
       "    </tr>\n",
       "  </tbody>\n",
       "</table>\n",
       "</div>"
      ],
      "text/plain": [
       "          First_Name Last_Name                      Email   Cellphone  \\\n",
       "StudentID                                                               \n",
       "1               Judy     Kimeu      judykimeu10@gmail.com  0205154500   \n",
       "2               Eric     Lagat        lagateric@gmail.com  0205155500   \n",
       "3              Henry     Taute            taute@yahoo.com  0205156500   \n",
       "4            Maurine     Njoki  njoki_maurine@hotmail.com  0205157500   \n",
       "5              Fatme   Gatheru    fatme_gatheru@yahoo.com  0205158500   \n",
       "\n",
       "          Physical_Address  Gender City_Code Country_Code CourseID  \n",
       "StudentID                                                           \n",
       "1                     Meru  Female         1            1        2  \n",
       "2                  Baringo    Male         1            1        3  \n",
       "3                  Homabay    Male         2            2        2  \n",
       "4                  Nairobi  Female         3            3        1  \n",
       "5                     Meru  Female         3            3        4  "
      ]
     },
     "execution_count": 42,
     "metadata": {},
     "output_type": "execute_result"
    }
   ],
   "source": [
    "#create a student dataframe\n",
    "studentdf=pd.DataFrame ([x for x in db.Student.find()])\n",
    "#set index for the data in dataframe\n",
    "studentdf.set_index('StudentID', inplace=True)\n",
    "#remove default_id by the MongoDB\n",
    "studentdf.drop('_id', inplace = True, axis=1)\n",
    "#display the student dataframe\n",
    "studentdf\n"
   ]
  },
  {
   "cell_type": "code",
   "execution_count": 44,
   "metadata": {},
   "outputs": [
    {
     "data": {
      "text/html": [
       "<div>\n",
       "<style scoped>\n",
       "    .dataframe tbody tr th:only-of-type {\n",
       "        vertical-align: middle;\n",
       "    }\n",
       "\n",
       "    .dataframe tbody tr th {\n",
       "        vertical-align: top;\n",
       "    }\n",
       "\n",
       "    .dataframe thead th {\n",
       "        text-align: right;\n",
       "    }\n",
       "</style>\n",
       "<table border=\"1\" class=\"dataframe\">\n",
       "  <thead>\n",
       "    <tr style=\"text-align: right;\">\n",
       "      <th></th>\n",
       "      <th>city_name</th>\n",
       "    </tr>\n",
       "    <tr>\n",
       "      <th>City_Code</th>\n",
       "      <th></th>\n",
       "    </tr>\n",
       "  </thead>\n",
       "  <tbody>\n",
       "    <tr>\n",
       "      <th>1</th>\n",
       "      <td>Nairobi</td>\n",
       "    </tr>\n",
       "    <tr>\n",
       "      <th>2</th>\n",
       "      <td>Kampala</td>\n",
       "    </tr>\n",
       "    <tr>\n",
       "      <th>3</th>\n",
       "      <td>Dar es Salam</td>\n",
       "    </tr>\n",
       "  </tbody>\n",
       "</table>\n",
       "</div>"
      ],
      "text/plain": [
       "              city_name\n",
       "City_Code              \n",
       "1               Nairobi\n",
       "2               Kampala\n",
       "3          Dar es Salam"
      ]
     },
     "execution_count": 44,
     "metadata": {},
     "output_type": "execute_result"
    }
   ],
   "source": [
    "#create a City dataframe\n",
    "citydf=pd.DataFrame ([x for x in db.City.find()])\n",
    "#set index for the data in the dataframe\n",
    "citydf.set_index(\"City_Code\", inplace = True)\n",
    "#remove the default ID column by MongoDB\n",
    "citydf.drop('_id', inplace = True, axis=1)\n",
    "#Display data\n",
    "citydf"
   ]
  },
  {
   "cell_type": "code",
   "execution_count": 45,
   "metadata": {},
   "outputs": [
    {
     "data": {
      "text/html": [
       "<div>\n",
       "<style scoped>\n",
       "    .dataframe tbody tr th:only-of-type {\n",
       "        vertical-align: middle;\n",
       "    }\n",
       "\n",
       "    .dataframe tbody tr th {\n",
       "        vertical-align: top;\n",
       "    }\n",
       "\n",
       "    .dataframe thead th {\n",
       "        text-align: right;\n",
       "    }\n",
       "</style>\n",
       "<table border=\"1\" class=\"dataframe\">\n",
       "  <thead>\n",
       "    <tr style=\"text-align: right;\">\n",
       "      <th></th>\n",
       "      <th>Country_Name</th>\n",
       "    </tr>\n",
       "    <tr>\n",
       "      <th>Country_Code</th>\n",
       "      <th></th>\n",
       "    </tr>\n",
       "  </thead>\n",
       "  <tbody>\n",
       "    <tr>\n",
       "      <th>1</th>\n",
       "      <td>Kenya</td>\n",
       "    </tr>\n",
       "    <tr>\n",
       "      <th>2</th>\n",
       "      <td>Uganda</td>\n",
       "    </tr>\n",
       "    <tr>\n",
       "      <th>3</th>\n",
       "      <td>Tanzania</td>\n",
       "    </tr>\n",
       "  </tbody>\n",
       "</table>\n",
       "</div>"
      ],
      "text/plain": [
       "             Country_Name\n",
       "Country_Code             \n",
       "1                   Kenya\n",
       "2                  Uganda\n",
       "3                Tanzania"
      ]
     },
     "execution_count": 45,
     "metadata": {},
     "output_type": "execute_result"
    }
   ],
   "source": [
    "#create the country dataframe\n",
    "countrydf=pd.DataFrame ([x for x in db.Country.find()])\n",
    "#set index\n",
    "countrydf.set_index(\"Country_Code\", inplace= True)\n",
    "#remove the default ID column by mongoDB\n",
    "countrydf.drop('_id', inplace= True, axis=1)\n",
    "#display the formatted data\n",
    "countrydf"
   ]
  },
  {
   "cell_type": "code",
   "execution_count": 48,
   "metadata": {},
   "outputs": [
    {
     "data": {
      "text/html": [
       "<div>\n",
       "<style scoped>\n",
       "    .dataframe tbody tr th:only-of-type {\n",
       "        vertical-align: middle;\n",
       "    }\n",
       "\n",
       "    .dataframe tbody tr th {\n",
       "        vertical-align: top;\n",
       "    }\n",
       "\n",
       "    .dataframe thead th {\n",
       "        text-align: right;\n",
       "    }\n",
       "</style>\n",
       "<table border=\"1\" class=\"dataframe\">\n",
       "  <thead>\n",
       "    <tr style=\"text-align: right;\">\n",
       "      <th></th>\n",
       "      <th>Course_Name</th>\n",
       "    </tr>\n",
       "    <tr>\n",
       "      <th>CourseID</th>\n",
       "      <th></th>\n",
       "    </tr>\n",
       "  </thead>\n",
       "  <tbody>\n",
       "    <tr>\n",
       "      <th>1</th>\n",
       "      <td>Engineering</td>\n",
       "    </tr>\n",
       "    <tr>\n",
       "      <th>2</th>\n",
       "      <td>Medicine</td>\n",
       "    </tr>\n",
       "    <tr>\n",
       "      <th>3</th>\n",
       "      <td>Law</td>\n",
       "    </tr>\n",
       "    <tr>\n",
       "      <th>4</th>\n",
       "      <td>Education</td>\n",
       "    </tr>\n",
       "    <tr>\n",
       "      <th>5</th>\n",
       "      <td>Arts</td>\n",
       "    </tr>\n",
       "  </tbody>\n",
       "</table>\n",
       "</div>"
      ],
      "text/plain": [
       "          Course_Name\n",
       "CourseID             \n",
       "1         Engineering\n",
       "2            Medicine\n",
       "3                 Law\n",
       "4           Education\n",
       "5                Arts"
      ]
     },
     "execution_count": 48,
     "metadata": {},
     "output_type": "execute_result"
    }
   ],
   "source": [
    "#Format the data retieved from the Courses collection using pandas\n",
    "coursesdf=pd.DataFrame ([x for x in db.Courses.find()])\n",
    "#set index for the data\n",
    "coursesdf.set_index(\"CourseID\", inplace=True)\n",
    "#remove the _id column from the presentation\n",
    "coursesdf.drop(\"_id\", inplace = True, axis=1)\n",
    "#do data presentation\n",
    "coursesdf"
   ]
  },
  {
   "cell_type": "code",
   "execution_count": 57,
   "metadata": {},
   "outputs": [
    {
     "data": {
      "text/html": [
       "<div>\n",
       "<style scoped>\n",
       "    .dataframe tbody tr th:only-of-type {\n",
       "        vertical-align: middle;\n",
       "    }\n",
       "\n",
       "    .dataframe tbody tr th {\n",
       "        vertical-align: top;\n",
       "    }\n",
       "\n",
       "    .dataframe thead th {\n",
       "        text-align: right;\n",
       "    }\n",
       "</style>\n",
       "<table border=\"1\" class=\"dataframe\">\n",
       "  <thead>\n",
       "    <tr style=\"text-align: right;\">\n",
       "      <th></th>\n",
       "      <th>First_Name</th>\n",
       "      <th>Last_Name</th>\n",
       "      <th>Gender</th>\n",
       "      <th>Course_Name</th>\n",
       "    </tr>\n",
       "    <tr>\n",
       "      <th>StudentID</th>\n",
       "      <th></th>\n",
       "      <th></th>\n",
       "      <th></th>\n",
       "      <th></th>\n",
       "    </tr>\n",
       "  </thead>\n",
       "  <tbody>\n",
       "    <tr>\n",
       "      <th>1</th>\n",
       "      <td>Judy</td>\n",
       "      <td>Kimeu</td>\n",
       "      <td>Female</td>\n",
       "      <td>Medicine</td>\n",
       "    </tr>\n",
       "    <tr>\n",
       "      <th>2</th>\n",
       "      <td>Eric</td>\n",
       "      <td>Lagat</td>\n",
       "      <td>Male</td>\n",
       "      <td>Law</td>\n",
       "    </tr>\n",
       "    <tr>\n",
       "      <th>3</th>\n",
       "      <td>Henry</td>\n",
       "      <td>Taute</td>\n",
       "      <td>Male</td>\n",
       "      <td>Medicine</td>\n",
       "    </tr>\n",
       "    <tr>\n",
       "      <th>4</th>\n",
       "      <td>Maurine</td>\n",
       "      <td>Njoki</td>\n",
       "      <td>Female</td>\n",
       "      <td>Engineering</td>\n",
       "    </tr>\n",
       "    <tr>\n",
       "      <th>5</th>\n",
       "      <td>Fatme</td>\n",
       "      <td>Gatheru</td>\n",
       "      <td>Female</td>\n",
       "      <td>Education</td>\n",
       "    </tr>\n",
       "  </tbody>\n",
       "</table>\n",
       "</div>"
      ],
      "text/plain": [
       "          First_Name Last_Name  Gender  Course_Name\n",
       "StudentID                                          \n",
       "1               Judy     Kimeu  Female     Medicine\n",
       "2               Eric     Lagat    Male          Law\n",
       "3              Henry     Taute    Male     Medicine\n",
       "4            Maurine     Njoki  Female  Engineering\n",
       "5              Fatme   Gatheru  Female    Education"
      ]
     },
     "execution_count": 57,
     "metadata": {},
     "output_type": "execute_result"
    }
   ],
   "source": [
    "#Join the collection to produce data in a single table\n",
    "#use aggregate function and lookup\n",
    "join_student_courses= db.Student.aggregate(\n",
    "[\n",
    "    {\n",
    "        \"$lookup\":{\n",
    "            \"from\":\"Courses\",\n",
    "            \"localField\":\"CourseID\",\n",
    "            \"foreignField\":\"CourseID\",\n",
    "            \"as\":\"Student_Course\"\n",
    "        }\n",
    "    },\n",
    "    #select fields to display from the selction\n",
    "    {\"$unwind\":\"$Student_Course\" },\n",
    "    {\n",
    "        \"$project\":{\n",
    "            \"_id\":0,\n",
    "            \"StudentID\":1,\n",
    "            \"First_Name\":2,\n",
    "            \"Last_Name\":3,\n",
    "            \"Gender\":4,\n",
    "            \"Course_Name\":\"$Student_Course.Course_Name\"\n",
    "            \n",
    "        }\n",
    "    }\n",
    "])\n",
    "\n",
    "#Can present this data usual way not in tabular form\n",
    "#for x in join_student_courses:\n",
    "#    print(x)\n",
    "    \n",
    "#present the data above in tabular format\n",
    "studentcoursesdf=pd.DataFrame (list(join_student_courses))\n",
    "#set index\n",
    "studentcoursesdf.set_index(\"StudentID\", inplace= True)\n",
    "#display the table\n",
    "studentcoursesdf"
   ]
  },
  {
   "cell_type": "code",
   "execution_count": 66,
   "metadata": {},
   "outputs": [
    {
     "data": {
      "text/html": [
       "<div>\n",
       "<style scoped>\n",
       "    .dataframe tbody tr th:only-of-type {\n",
       "        vertical-align: middle;\n",
       "    }\n",
       "\n",
       "    .dataframe tbody tr th {\n",
       "        vertical-align: top;\n",
       "    }\n",
       "\n",
       "    .dataframe thead th {\n",
       "        text-align: right;\n",
       "    }\n",
       "</style>\n",
       "<table border=\"1\" class=\"dataframe\">\n",
       "  <thead>\n",
       "    <tr style=\"text-align: right;\">\n",
       "      <th></th>\n",
       "      <th>First_Name</th>\n",
       "      <th>Last_Name</th>\n",
       "      <th>Gender</th>\n",
       "      <th>City</th>\n",
       "      <th>Country_Name</th>\n",
       "      <th>Courses</th>\n",
       "    </tr>\n",
       "    <tr>\n",
       "      <th>StudentID</th>\n",
       "      <th></th>\n",
       "      <th></th>\n",
       "      <th></th>\n",
       "      <th></th>\n",
       "      <th></th>\n",
       "      <th></th>\n",
       "    </tr>\n",
       "  </thead>\n",
       "  <tbody>\n",
       "    <tr>\n",
       "      <th>1</th>\n",
       "      <td>Judy</td>\n",
       "      <td>Kimeu</td>\n",
       "      <td>Female</td>\n",
       "      <td>Nairobi</td>\n",
       "      <td>Kenya</td>\n",
       "      <td>Medicine</td>\n",
       "    </tr>\n",
       "    <tr>\n",
       "      <th>2</th>\n",
       "      <td>Eric</td>\n",
       "      <td>Lagat</td>\n",
       "      <td>Male</td>\n",
       "      <td>Nairobi</td>\n",
       "      <td>Kenya</td>\n",
       "      <td>Law</td>\n",
       "    </tr>\n",
       "    <tr>\n",
       "      <th>3</th>\n",
       "      <td>Henry</td>\n",
       "      <td>Taute</td>\n",
       "      <td>Male</td>\n",
       "      <td>Kampala</td>\n",
       "      <td>Uganda</td>\n",
       "      <td>Medicine</td>\n",
       "    </tr>\n",
       "    <tr>\n",
       "      <th>4</th>\n",
       "      <td>Maurine</td>\n",
       "      <td>Njoki</td>\n",
       "      <td>Female</td>\n",
       "      <td>Dar es Salam</td>\n",
       "      <td>Tanzania</td>\n",
       "      <td>Engineering</td>\n",
       "    </tr>\n",
       "    <tr>\n",
       "      <th>5</th>\n",
       "      <td>Fatme</td>\n",
       "      <td>Gatheru</td>\n",
       "      <td>Female</td>\n",
       "      <td>Dar es Salam</td>\n",
       "      <td>Tanzania</td>\n",
       "      <td>Education</td>\n",
       "    </tr>\n",
       "  </tbody>\n",
       "</table>\n",
       "</div>"
      ],
      "text/plain": [
       "          First_Name Last_Name  Gender          City Country_Name      Courses\n",
       "StudentID                                                                     \n",
       "1               Judy     Kimeu  Female       Nairobi        Kenya     Medicine\n",
       "2               Eric     Lagat    Male       Nairobi        Kenya          Law\n",
       "3              Henry     Taute    Male       Kampala       Uganda     Medicine\n",
       "4            Maurine     Njoki  Female  Dar es Salam     Tanzania  Engineering\n",
       "5              Fatme   Gatheru  Female  Dar es Salam     Tanzania    Education"
      ]
     },
     "execution_count": 66,
     "metadata": {},
     "output_type": "execute_result"
    }
   ],
   "source": [
    "#join the Students collection to City and Country\n",
    "#use aggregate function and lookup\n",
    "join_student_city_country_courses=db.Student.aggregate(\n",
    "[\n",
    "    {\n",
    "        \"$lookup\":{\n",
    "            \"from\":\"City\",\n",
    "            \"localField\":\"City_Code\",\n",
    "            \"foreignField\":\"City_Code\",\n",
    "            \"as\": \"student_city\"\n",
    "        }\n",
    "    },\n",
    "    {\"$unwind\":\"$student_city\"},\n",
    "    {\n",
    "        \"$lookup\":{\n",
    "            \"from\":\"Country\",\n",
    "            \"localField\":\"Country_Code\",\n",
    "            \"foreignField\":\"Country_Code\",\n",
    "            \"as\": \"student_country\"\n",
    "        }\n",
    "    },\n",
    "    {\"$unwind\":\"$student_country\"},\n",
    "    {\n",
    "        \"$lookup\":{\n",
    "            \"from\":\"Courses\",\n",
    "            \"localField\":\"CourseID\",\n",
    "            \"foreignField\":\"CourseID\",\n",
    "            \"as\": \"student_courses\"\n",
    "        }\n",
    "    },\n",
    "    {\"$unwind\":\"$student_courses\"},\n",
    "    {\n",
    "        \"$project\":{\n",
    "            \"_id\":0,\n",
    "            \"StudentID\":1,\n",
    "            \"First_Name\":2,\n",
    "            \"Last_Name\":3,\n",
    "            \"Gender\":4,\n",
    "            \"City\":\"$student_city.city_name\",\n",
    "            \"Country_Name\":\"$student_country.Country_Name\",\n",
    "            \"Courses\":\"$student_courses.Course_Name\"\n",
    "        }\n",
    "    }\n",
    "])\n",
    "\n",
    "#present the data selected from the collections in tabular format using pandas\n",
    "student_city_country_courses_df=pd.DataFrame (list(join_student_city_country_courses))\n",
    "#set index\n",
    "student_city_country_courses_df.set_index(\"StudentID\", inplace= True)\n",
    "#Display the data\n",
    "student_city_country_courses_df"
   ]
  },
  {
   "cell_type": "code",
   "execution_count": null,
   "metadata": {},
   "outputs": [],
   "source": []
  },
  {
   "cell_type": "code",
   "execution_count": null,
   "metadata": {},
   "outputs": [],
   "source": []
  }
 ],
 "metadata": {
  "kernelspec": {
   "display_name": "Python 3",
   "language": "python",
   "name": "python3"
  },
  "language_info": {
   "codemirror_mode": {
    "name": "ipython",
    "version": 3
   },
   "file_extension": ".py",
   "mimetype": "text/x-python",
   "name": "python",
   "nbconvert_exporter": "python",
   "pygments_lexer": "ipython3",
   "version": "3.8.5"
  }
 },
 "nbformat": 4,
 "nbformat_minor": 4
}
