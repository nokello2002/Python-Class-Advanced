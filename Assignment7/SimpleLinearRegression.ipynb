{
 "cells": [
  {
   "cell_type": "code",
   "execution_count": 1,
   "metadata": {},
   "outputs": [],
   "source": [
    "#Predicting changes in variables using linear regression\n",
    "import matplotlib.pyplot as plt\n",
    "import pandas as pd\n"
   ]
  },
  {
   "cell_type": "code",
   "execution_count": 2,
   "metadata": {},
   "outputs": [
    {
     "name": "stdout",
     "output_type": "stream",
     "text": [
      "     YearsExperience     Salary\n",
      "0                 1.1   39343.0\n",
      "1                 1.3   46205.0\n",
      "2                 1.5   37731.0\n",
      "3                 2.0   43525.0\n",
      "4                 2.2   39891.0\n",
      "5                 2.9   56642.0\n",
      "6                 3.0   60150.0\n",
      "7                 3.2   54445.0\n",
      "8                 3.2   64445.0\n",
      "9                 3.7   57189.0\n",
      "10                3.9   63218.0\n",
      "11                4.0   55794.0\n",
      "12                4.0   56957.0\n",
      "13                4.1   57081.0\n",
      "14                4.5   61111.0\n",
      "15                4.9   67938.0\n",
      "16                5.1   66029.0\n",
      "17                5.3   83088.0\n",
      "18                5.9   81363.0\n",
      "19                6.0   93940.0\n",
      "20                6.8   91738.0\n",
      "21                7.1   98273.0\n",
      "22                7.9  101302.0\n",
      "23                8.2  113812.0\n",
      "24                8.7  109431.0\n",
      "25                9.0  105582.0\n",
      "26                9.5  116969.0\n",
      "27                9.6  112635.0\n",
      "28               10.3  122391.0\n",
      "29               10.5  121872.0\n"
     ]
    }
   ],
   "source": [
    "#import the data set\n",
    "df=pd.read_csv (r\"C:\\Users\\HP\\Python-Class-Advanced\\Assignment7\\Salary_Data.csv\")\n",
    "print(df)"
   ]
  },
  {
   "cell_type": "code",
   "execution_count": 3,
   "metadata": {},
   "outputs": [],
   "source": [
    "x= df.iloc[:, :-1].values\n",
    "y= df.iloc[:, :1].values"
   ]
  },
  {
   "cell_type": "code",
   "execution_count": 4,
   "metadata": {},
   "outputs": [],
   "source": [
    "#Split the data into training set and the test set\n",
    "from sklearn.model_selection import train_test_split\n",
    "x_train, x_test, y_train, y_test = train_test_split (x, y, test_size=1/3, random_state=0)"
   ]
  },
  {
   "cell_type": "code",
   "execution_count": 5,
   "metadata": {},
   "outputs": [
    {
     "data": {
      "text/plain": [
       "LinearRegression()"
      ]
     },
     "execution_count": 5,
     "metadata": {},
     "output_type": "execute_result"
    }
   ],
   "source": [
    "#Fitting simple linear regression to the training set\n",
    "from sklearn.linear_model import LinearRegression\n",
    "regressor = LinearRegression()\n",
    "regressor.fit (x_train, y_train)\n"
   ]
  },
  {
   "cell_type": "code",
   "execution_count": 6,
   "metadata": {},
   "outputs": [],
   "source": [
    "#Fitting the simple linear regression to the test set\n",
    "y_pred= regressor.predict(x_test)"
   ]
  },
  {
   "cell_type": "code",
   "execution_count": 7,
   "metadata": {},
   "outputs": [
    {
     "data": {
      "image/png": "[encoded data removed]",
      "text/plain": [
       "<Figure size 432x288 with 1 Axes>"
      ]
     },
     "metadata": {
      "needs_background": "light"
     },
     "output_type": "display_data"
    }
   ],
   "source": [
    "#Visualize the Training set results\n",
    "plt.scatter (x_train, y_train, color=\"Red\")\n",
    "plt.plot (x_train, regressor.predict (x_train), color=\"Blue\")\n",
    "plt.title (\"Salary vs Experience (Training Set)\")\n",
    "plt.xlabel(\"Years of Experience\")\n",
    "plt.ylabel(\"Salary\")\n",
    "plt.show()"
   ]
  },
  {
   "cell_type": "code",
   "execution_count": null,
   "metadata": {},
   "outputs": [],
   "source": [
    "#After the line is created, we then apply that same line to the Test Set\n",
    "#The test set is the remaining 30% or 1/3 of the dataset.\n",
    "#The overall goal here is to create a model that will predict Salary based on Years of Experience. \n",
    "#First, we create a model using the Training Set (70% of the dataset) as shown above. \n",
    "#It will then fit a line that is close as possible with most of the data points."
   ]
  },
  {
   "cell_type": "code",
   "execution_count": 8,
   "metadata": {},
   "outputs": [
    {
     "data": {
      "image/png": "[encoded data removed]",
      "text/plain": [
       "<Figure size 432x288 with 1 Axes>"
      ]
     },
     "metadata": {
      "needs_background": "light"
     },
     "output_type": "display_data"
    }
   ],
   "source": [
    "plt.scatter (x_test, y_test, color =\"Red\")\n",
    "plt.plot(x_train, regressor.predict (x_train), color =\"Blue\")\n",
    "plt.title(\"Salary vs Experience (Test Data)\")\n",
    "plt.xlabel(\"Years of Experience\")\n",
    "plt.ylabel(\"Salary\")\n",
    "plt.show()"
   ]
  },
  {
   "cell_type": "code",
   "execution_count": null,
   "metadata": {},
   "outputs": [],
   "source": [
    "#Notice that the line performed well both on the Training Set and the Test Set. \n",
    "#As a result, there’s a good chance that the line or our model will also perform well on new data."
   ]
  }
 ],
 "metadata": {
  "kernelspec": {
   "display_name": "Python 3",
   "language": "python",
   "name": "python3"
  },
  "language_info": {
   "codemirror_mode": {
    "name": "ipython",
    "version": 3
   },
   "file_extension": ".py",
   "mimetype": "text/x-python",
   "name": "python",
   "nbconvert_exporter": "python",
   "pygments_lexer": "ipython3",
   "version": "3.8.5"
  }
 },
 "nbformat": 4,
 "nbformat_minor": 4
}
