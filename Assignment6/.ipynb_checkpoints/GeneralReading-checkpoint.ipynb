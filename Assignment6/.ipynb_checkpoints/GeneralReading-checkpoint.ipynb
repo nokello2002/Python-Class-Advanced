{
  "nbformat": 4,
  "nbformat_minor": 0,
  "metadata": {
    "colab": {
      "name": "Assignment_2.ipynb",
      "private_outputs": true,
      "provenance": [],
      "collapsed_sections": []
    },
    "kernelspec": {
      "display_name": "Python 3",
      "language": "python",
      "name": "python3"
    },
    "language_info": {
      "codemirror_mode": {
        "name": "ipython",
        "version": 3
      },
      "file_extension": ".py",
      "mimetype": "text/x-python",
      "name": "python",
      "nbconvert_exporter": "python",
      "pygments_lexer": "ipython3",
      "version": "3.8.3"
    }
  },
  "cells": [
    {
      "cell_type": "code",
      "metadata": {
        "id": "gVuDWSzl3ucl"
      },
      "source": [
        "#import libraries\n",
        "import pandas as pd\n",
        "import seaborn as sns\n",
        "from matplotlib import pyplot as plt\n",
        "import scipy.stats as stats\n",
        "\n",
        "#1: Load the data file  \n",
        "df = pd.read_csv(\"/Users/gndede/Downloads/chidata_for_assignment_5.csv\")\n",
        "df.head()"
      ],
      "execution_count": null,
      "outputs": []
    },
    {
      "cell_type": "code",
      "metadata": {
        "id": "1-lQWS_i4UfA"
      },
      "source": [
        "#2: Display Column names\n",
        "df.columns\n",
        "alpha = 0.05"
      ],
      "execution_count": null,
      "outputs": []
    },
    {
      "cell_type": "code",
      "metadata": {
        "id": "Qa245Mqe5BbX"
      },
      "source": [
        "#3: Print/Display the Column Information\n",
        "df.shape\n",
        "df.info()"
      ],
      "execution_count": null,
      "outputs": []
    },
    {
      "cell_type": "code",
      "metadata": {
        "id": "I70HeTAm5nrO"
      },
      "source": [
        "#4: Print out the first 10 records\n",
        "df.head(10)"
      ],
      "execution_count": null,
      "outputs": []
    },
    {
      "cell_type": "code",
      "metadata": {
        "id": "Xi2CldsK6Fze"
      },
      "source": [
        "#5: Generates a seaborn count plot of gender\n",
        "gender_Count = pd.DataFrame(df)\n",
        "gender_Count = sns.countplot(x=\"Gender\", data=df)\n",
        "\n",
        "#7: Adding appropriate Chart Title\n",
        "gender_Count.set_title('Categorical Gender differences in health.')\n",
        "#sns.regplot(x=\"Gender\", y=\"lat\", data=df)"
      ],
      "execution_count": null,
      "outputs": []
    },
    {
      "cell_type": "code",
      "metadata": {
        "id": "RLbvAJFz8YvN"
      },
      "source": [
        "#8: Generates a count plot for Insurance\n",
        "gender_Count = pd.DataFrame(df)\n",
        "gender_Count = sns.countplot(x=\"Insurance\", data=df)\n",
        "\n",
        "#Adding appropriate Chart Title\n",
        "gender_Count.set_title('Categorical Insurance difference coverages.')"
      ],
      "execution_count": null,
      "outputs": []
    },
    {
      "cell_type": "code",
      "metadata": {
        "id": "yrVOoHnI842I"
      },
      "source": [
        "#9: Contigency cross table of the two data fiels\n",
        "crosstab = pd.crosstab(df.Gender, df.Insurance, margins=True, margins_name=\"Totals\")\n",
        "crosstab"
      ],
      "execution_count": null,
      "outputs": []
    },
    {
      "cell_type": "code",
      "metadata": {
        "id": "qa9jAKEa_Rql"
      },
      "source": [
        "#10: Create a heatmap fo the contingency cross table\n",
        "gender_Count = sns.heatmap(crosstab)\n",
        "gender_Count.set(title='Insurances', xlabel='Insurance Results', ylabel='Insurance')"
      ],
      "execution_count": null,
      "outputs": []
    },
    {
      "cell_type": "code",
      "metadata": {
        "id": "qZ1f5QIhBNO5"
      },
      "source": [
        "#11 & 12: With the chi test result - we get Chi square test statistic, \n",
        "#p-value, df and expected array values\n",
        "print(\"*** Test of Independence Results ***\")\n",
        "results = stats.chi2_contingency(crosstab)\n",
        "results\n",
        "\n",
        "print(\"\\n\\n ** Print test Results **\")\n",
        "print(\" ========================\")\n",
        "print(\"Chi square test statistic = \",round(results[0],2))\n",
        "print(\"p-value = \",round(results[1],2))\n",
        "print(\"df =\",results[2])\n",
        "print(\"Expected values = \\n\",results[3])"
      ],
      "execution_count": null,
      "outputs": []
    },
    {
      "cell_type": "code",
      "metadata": {
        "id": "perQE7X0H0d0"
      },
      "source": [
        "#13 State the null hypothesis: \n",
        "#It is a statement of no difference between sample \n",
        "#means or proportions or no difference between a sample \n",
        "#mean or proportion and a population mean or proportion. \n",
        "#In other words, the difference equals 0.\n",
        "\n",
        "#H0: the observed distribution fits the expected distribution."
      ],
      "execution_count": null,
      "outputs": []
    },
    {
      "cell_type": "code",
      "metadata": {
        "id": "HEXvokdkH6So"
      },
      "source": [
        "#14: State the alternative hypothesis?\n",
        "# This is the claim to about the population that is \n",
        "#contradictory to H0 and what we conclude when we reject H0."
      ],
      "execution_count": null,
      "outputs": []
    },
    {
      "cell_type": "code",
      "metadata": {
        "id": "3sYzp_NuH_lT"
      },
      "source": [
        "#15: Compare the p-value to the alpha value. Based on the comparison, \n",
        "#state whether you reject or fail to reject the null hypothesis?\n",
        "#If the p value is less than alpha then we reject the null hypothesis - variable is dependent.\n",
        "#Alternatively, we fail to reject H0, and that means the variable is Independent.\n",
        "\n",
        "#In this case the p-value from the calculation is 0.01, and the\n",
        "# alpha-value is 0.05. \n",
        "#Obviously the p-value is greater than the alpha-value and therefore we \n",
        "#comfortably accept alternative hypothesis. We fail to reject H0 - Variable Independent."
      ],
      "execution_count": null,
      "outputs": []
    },
    {
      "cell_type": "code",
      "metadata": {
        "id": "j8cZHQh2ODnu"
      },
      "source": [
        "#1: Chi square is a categorical test of association. True"
      ],
      "execution_count": null,
      "outputs": []
    },
    {
      "cell_type": "code",
      "metadata": {
        "id": "G_slqhHiOT7K"
      },
      "source": [
        "#2: The null hypothesis for a Chi Square goodness of fit test \n",
        "#.  is that the observed distribution does not fit the expected distribution. False"
      ],
      "execution_count": null,
      "outputs": []
    },
    {
      "cell_type": "code",
      "metadata": {
        "id": "M0RIMNA-P7zU"
      },
      "source": [
        "#3: The Chi square Test of Independent is best to determine if two categorical variables are related. True."
      ],
      "execution_count": null,
      "outputs": []
    },
    {
      "cell_type": "code",
      "metadata": {
        "id": "tRW5Jm34QDVl"
      },
      "source": [
        "#4: A contingency table must be created for the Chi Square Test of Independence. True."
      ],
      "execution_count": null,
      "outputs": []
    },
    {
      "cell_type": "code",
      "metadata": {
        "id": "VWWVAe9aR5rn"
      },
      "source": [
        "#5: If two variables are dependent, then they are related and changing one variable will cause a change in\n",
        "#   the other variable. True."
      ],
      "execution_count": null,
      "outputs": []
    },
    {
      "cell_type": "code",
      "metadata": {
        "id": "3xdsqZ_4TXqJ"
      },
      "source": [
        "#6: The best Chi square test for relationships between categorical variables is the test of independence. True"
      ],
      "execution_count": null,
      "outputs": []
    },
    {
      "cell_type": "code",
      "metadata": {
        "id": "PN2wPFVOT6Sg"
      },
      "source": [
        "#7: The assumptions for the Chi Square Goodness of fit test are that the data are from a random sample,\n",
        "#   and the expected frequency for each category is _________ or greater."
      ],
      "execution_count": null,
      "outputs": []
    },
    {
      "cell_type": "code",
      "metadata": {
        "id": "tGb2zmTuUs-8"
      },
      "source": [
        "#8: We have sampled 100 customers on their preference for 5 diet soda brands. If there were no\n",
        "#   preference on diet soda brands, we would expect that __20_______ people would select each flavor."
      ],
      "execution_count": null,
      "outputs": []
    },
    {
      "cell_type": "code",
      "metadata": {
        "id": "IHBhFu_0UtWS"
      },
      "source": [
        "#9: You want to conduct a Goodness of Fit test on whether customers have a preference among different\n",
        "#    colors of backgrounds for a promotional poster. You expect that the customers will like each color\n",
        "#    equally. State the alternate hypothesis: \n",
        "\n",
        "#The alternative hypothesis is that more customers will pick colors of backgrounds for a promotional poster and they\n",
        "# will like each color more. "
      ],
      "execution_count": null,
      "outputs": []
    },
    {
      "cell_type": "code",
      "metadata": {
        "id": "6DYsi9scYCeS"
      },
      "source": [
        "#10: Let alpha = 0.05. You conducted a Chi Square Test of Independence on the relationship of gender and\n",
        "#.   post-operative infections (Yes or No). The p-value was 0.06. \n",
        "\n",
        "#    Thus, you would ______ the null\n",
        "#.   hypothesis and conclude that gender and post-operative infections ________ associated.\n",
        "\n",
        "#Since p-value is greater than the alpha: We don't have sufficient evidence to reject the null hypothesis."
      ],
      "execution_count": null,
      "outputs": []
    },
    {
      "cell_type": "code",
      "metadata": {
        "id": "M9CNr4EQkCr6"
      },
      "source": [
        ""
      ],
      "execution_count": null,
      "outputs": []
    },
    {
      "cell_type": "code",
      "metadata": {
        "id": "z5slFAgOkCr6"
      },
      "source": [
        "#13 It is a statement of no difference between sample \n",
        "#means or proportions or no difference between a sample \n",
        "#mean or proportion and a population mean or proportion. \n",
        "#In other words, the difference equals 0.\n",
        "\n",
        "#H0: the observed distribution fits the expected distribution."
      ],
      "execution_count": null,
      "outputs": []
    },
    {
      "cell_type": "code",
      "metadata": {
        "id": "mHpaGS91kCr6"
      },
      "source": [
        "#14 The alternative hypothesis states there is an effect, difference or there is a relationship"
      ],
      "execution_count": null,
      "outputs": []
    },
    {
      "cell_type": "code",
      "metadata": {
        "id": "kBbh8hRikCr7"
      },
      "source": [
        "#15 If the p value is less than alpha then we reject the null hypothesis - variable is dependent.\n",
        "#Alternatively, we fail to reject H0, and that means the variable is Independent.\n",
        "\n",
        "#In this case the p-value from the calculation is 0.01, and the\n",
        "# alpha-value is 0.05. \n",
        "#Obviously the p-value is greater than the alpha-value and therefore we \n",
        "#comfortably accept alternative hypothesis. We fail to reject H0 - Variable Independent."
      ],
      "execution_count": null,
      "outputs": []
    },
    {
      "cell_type": "code",
      "metadata": {
        "id": "UV4zEsPlkCr7"
      },
      "source": [
        "#1 True"
      ],
      "execution_count": null,
      "outputs": []
    },
    {
      "cell_type": "code",
      "metadata": {
        "id": "kVqkFKIbkCr7"
      },
      "source": [
        "#2 False"
      ],
      "execution_count": null,
      "outputs": []
    },
    {
      "cell_type": "code",
      "metadata": {
        "id": "q4odppE2kCr7"
      },
      "source": [
        "#3: False."
      ],
      "execution_count": null,
      "outputs": []
    },
    {
      "cell_type": "code",
      "metadata": {
        "id": "B5wg21a9kCr8"
      },
      "source": [
        "#4: True."
      ],
      "execution_count": null,
      "outputs": []
    },
    {
      "cell_type": "code",
      "metadata": {
        "id": "KxQOblUtkCr8"
      },
      "source": [
        "#5: True."
      ],
      "execution_count": null,
      "outputs": []
    },
    {
      "cell_type": "code",
      "metadata": {
        "id": "90XgHWNnkCr8"
      },
      "source": [
        "#6: True"
      ],
      "execution_count": null,
      "outputs": []
    },
    {
      "cell_type": "code",
      "metadata": {
        "id": "7nQFroUvkCr9"
      },
      "source": [
        "#7: 5"
      ],
      "execution_count": null,
      "outputs": []
    },
    {
      "cell_type": "code",
      "metadata": {
        "id": "hQsdjwntkCr-"
      },
      "source": [
        "#8: 20"
      ],
      "execution_count": null,
      "outputs": []
    },
    {
      "cell_type": "code",
      "metadata": {
        "id": "nsXR5qdmkCr-"
      },
      "source": [
        "#9: Customers prefer one color of background over others."
      ],
      "execution_count": null,
      "outputs": []
    },
    {
      "cell_type": "code",
      "metadata": {
        "id": "FN_zc4WMkCr-"
      },
      "source": [
        "#10: Fail to reject.\n",
        "# Are not."
      ],
      "execution_count": null,
      "outputs": []
    }
  ]
}