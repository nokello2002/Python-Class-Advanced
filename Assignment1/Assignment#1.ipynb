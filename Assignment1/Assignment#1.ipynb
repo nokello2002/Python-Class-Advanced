{
 "cells": [
  {
   "cell_type": "code",
   "execution_count": 6,
   "metadata": {},
   "outputs": [],
   "source": [
    "import sqlite3 as sql3"
   ]
  },
  {
   "cell_type": "code",
   "execution_count": 7,
   "metadata": {},
   "outputs": [
    {
     "name": "stdout",
     "output_type": "stream",
     "text": [
      "Opened Databse Successfully\n"
     ]
    }
   ],
   "source": [
    "#Connect to a database named Machine Learning\n",
    "conn=sql3.connect('Machine_Learning')\n",
    "print (\"Opened Databse Successfully\")"
   ]
  },
  {
   "cell_type": "code",
   "execution_count": 8,
   "metadata": {},
   "outputs": [],
   "source": [
    "cur=conn.cursor()"
   ]
  },
  {
   "cell_type": "code",
   "execution_count": 10,
   "metadata": {},
   "outputs": [
    {
     "name": "stdout",
     "output_type": "stream",
     "text": [
      "Tables dropped successfully\n"
     ]
    }
   ],
   "source": [
    "#drop these 2 tables if they exist\n",
    "#cur.execute (\"DROP TABLE Students\")\n",
    "#cur.execute (\"DROP TABLE Courses\")\n",
    "print(\"Tables dropped successfully\")"
   ]
  },
  {
   "cell_type": "code",
   "execution_count": 11,
   "metadata": {},
   "outputs": [
    {
     "name": "stdout",
     "output_type": "stream",
     "text": [
      "Table created successfully\n"
     ]
    }
   ],
   "source": [
    "#create a table named coursename\n",
    "cur.execute ('''CREATE TABLE Students (ID int, Fname text, Lname text, Country text, City text, Continent text, Course text)''')\n",
    "print(\"Table created successfully\")"
   ]
  },
  {
   "cell_type": "code",
   "execution_count": 12,
   "metadata": {},
   "outputs": [
    {
     "name": "stdout",
     "output_type": "stream",
     "text": [
      "Table created successfully\n"
     ]
    }
   ],
   "source": [
    "#create a table named coursename\n",
    "cur.execute ('''CREATE TABLE Courses (ID int, Coursename text)''')\n",
    "print(\"Table created successfully\")"
   ]
  },
  {
   "cell_type": "code",
   "execution_count": 13,
   "metadata": {},
   "outputs": [
    {
     "name": "stdout",
     "output_type": "stream",
     "text": [
      "Records saved successfully\n"
     ]
    }
   ],
   "source": [
    "#insert multiple records into the table Studenst\n",
    "\n",
    "Student_List=[\n",
    "    (1, 'Nicholas', 'Okello', 'Kenya', 'Nairobi', 'Africa', 'Advanced Python'),\n",
    "    (2, 'Tim', 'Kabugi', 'Kenya', 'Nairobi', 'Africa', 'Advanced Python'),\n",
    "    (3, 'John', 'Weru', 'Kenya', 'Nairobi', 'Africa', 'Advanced Python'),\n",
    "    (4, 'Darik', 'Olal', 'Kenya', 'Nairobi', 'Africa', 'Advanced Python'),\n",
    "    (5, 'Esther', 'Wambui', 'Kenya', 'Nairobi', 'Africa', 'Machine Learning'),\n",
    "    (6, 'George', 'Ndede', 'USA', 'Dallas', 'N. America', 'Artificial Intelligence')\n",
    "             ]\n",
    "\n",
    "cur.executemany(\"INSERT INTO Students VALUES (?,?,?,?,?,?,?)\", Student_List)\n",
    "conn.commit\n",
    "print(\"Records saved successfully\")"
   ]
  },
  {
   "cell_type": "code",
   "execution_count": 14,
   "metadata": {},
   "outputs": [
    {
     "name": "stdout",
     "output_type": "stream",
     "text": [
      "Records saved successfully\n"
     ]
    }
   ],
   "source": [
    "#Save the courses in the Courses table\n",
    "Coursework=[\n",
    "    (1, \"Advanced Python\"),\n",
    "    (2, \"Machine Learning\"),\n",
    "    (3, \"Introduction Data Science\"),\n",
    "    (4, \"Artificial Intelligence\"),\n",
    "    (5, \"Introduction Python\"),\n",
    "    (6, \"Database Management\"),\n",
    "    (7, \"Intro to Linux Administration\"),\n",
    "    (8, \"Intro to AWS Foundations\"),\n",
    "    (9, \"Python System Administration\")\n",
    "\n",
    "            ]\n",
    "\n",
    "cur.executemany(\"INSERT INTO Courses VALUES (?,?)\", Coursework)\n",
    "conn.commit\n",
    "print(\"Records saved successfully\")"
   ]
  },
  {
   "cell_type": "code",
   "execution_count": 15,
   "metadata": {},
   "outputs": [
    {
     "name": "stdout",
     "output_type": "stream",
     "text": [
      "(1, 'Nicholas', 'Okello', 'Kenya', 'Nairobi', 'Africa', 'Advanced Python', 1, 'Advanced Python')\n",
      "(2, 'Tim', 'Kabugi', 'Kenya', 'Nairobi', 'Africa', 'Advanced Python', 1, 'Advanced Python')\n",
      "(3, 'John', 'Weru', 'Kenya', 'Nairobi', 'Africa', 'Advanced Python', 1, 'Advanced Python')\n",
      "(4, 'Darik', 'Olal', 'Kenya', 'Nairobi', 'Africa', 'Advanced Python', 1, 'Advanced Python')\n",
      "(5, 'Esther', 'Wambui', 'Kenya', 'Nairobi', 'Africa', 'Machine Learning', 2, 'Machine Learning')\n",
      "(6, 'George', 'Ndede', 'USA', 'Dallas', 'N. America', 'Artificial Intelligence', 4, 'Artificial Intelligence')\n"
     ]
    }
   ],
   "source": [
    "#join the tables Students and Courses\n",
    "sqlstr=\"SELECT * FROM Students INNER JOIN Courses ON Students.Course= Courses.Coursename\"\n",
    "cur.execute (sqlstr)\n",
    "for row in cur:\n",
    "    print (row)"
   ]
  },
  {
   "cell_type": "code",
   "execution_count": 16,
   "metadata": {},
   "outputs": [
    {
     "name": "stdout",
     "output_type": "stream",
     "text": [
      "ID   Fname       Lname     Country City      Continent    Course                     CourseID\n",
      "1    Nicholas    Okello    Kenya   Nairobi   Africa       Advanced Python            1  \n",
      "2    Tim         Kabugi    Kenya   Nairobi   Africa       Advanced Python            1  \n",
      "3    John        Weru      Kenya   Nairobi   Africa       Advanced Python            1  \n",
      "4    Darik       Olal      Kenya   Nairobi   Africa       Advanced Python            1  \n",
      "5    Esther      Wambui    Kenya   Nairobi   Africa       Machine Learning           2  \n",
      "6    George      Ndede     USA     Dallas    N. America   Artificial Intelligence    4  \n"
     ]
    }
   ],
   "source": [
    "#Read and display the result of the merged tables\n",
    "cur.execute (\"SELECT Students.ID, Students.Fname, Students.Lname, Students.Country, Students.City, Students.Continent, Students.Course, Courses.ID AS CourseID FROM Students INNER JOIN Courses ON Students.Course= Courses.Coursename\")\n",
    "formatted_result = [f\"{ID:<5}{Fname:<12}{Lname:<10}{Country:<8}{City:<10}{Continent:<13}{Course:<27}{CourseID:<3}\" for ID, Fname, Lname, Country, City, Continent, Course, CourseID in cur.fetchall()]\n",
    "ID, Fname, Lname, Country, City, Continent, Course, CourseID = \"ID\", \"Fname\", \"Lname\", \"Country\", \"City\", \"Continent\", \"Course\", \"CourseID\"\n",
    "print('\\n'.join([f\"{ID:<5}{Fname:<12}{Lname:<10}{Country:<8}{City:<10}{Continent:<13}{Course:<27}{CourseID:<3}\"] + formatted_result))\n",
    "\n"
   ]
  },
  {
   "cell_type": "code",
   "execution_count": 17,
   "metadata": {},
   "outputs": [
    {
     "name": "stdout",
     "output_type": "stream",
     "text": [
      "Record saved successfully\n"
     ]
    }
   ],
   "source": [
    "#Add more courses to the Courses table\n",
    "cur.execute(\"INSERT INTO Courses VALUES(10,'Introduction to Statistics')\")\n",
    "conn.commit\n",
    "print(\"Record saved successfully\")"
   ]
  },
  {
   "cell_type": "code",
   "execution_count": 18,
   "metadata": {},
   "outputs": [
    {
     "name": "stdout",
     "output_type": "stream",
     "text": [
      "Record updated successfully\n"
     ]
    }
   ],
   "source": [
    "#Update the Courses table\n",
    "cur.execute(\"UPDATE Courses SET Coursename='AWS Foundations' WHERE ID=8\")\n",
    "conn.commit\n",
    "print(\"Record updated successfully\")"
   ]
  },
  {
   "cell_type": "code",
   "execution_count": 19,
   "metadata": {},
   "outputs": [
    {
     "name": "stdout",
     "output_type": "stream",
     "text": [
      "Record deleted successfully\n"
     ]
    }
   ],
   "source": [
    "#Delete a record from table Students\n",
    "cur.execute (\"DELETE FROM Students WHERE ID=6\")\n",
    "conn.commit\n",
    "print(\"Record deleted successfully\")"
   ]
  },
  {
   "cell_type": "code",
   "execution_count": 20,
   "metadata": {},
   "outputs": [],
   "source": [
    "conn.close()"
   ]
  },
  {
   "cell_type": "code",
   "execution_count": null,
   "metadata": {},
   "outputs": [],
   "source": []
  }
 ],
 "metadata": {
  "kernelspec": {
   "display_name": "Python 3",
   "language": "python",
   "name": "python3"
  },
  "language_info": {
   "codemirror_mode": {
    "name": "ipython",
    "version": 3
   },
   "file_extension": ".py",
   "mimetype": "text/x-python",
   "name": "python",
   "nbconvert_exporter": "python",
   "pygments_lexer": "ipython3",
   "version": "3.8.5"
  }
 },
 "nbformat": 4,
 "nbformat_minor": 4
}
