{
 "cells": [
  {
   "cell_type": "code",
   "execution_count": null,
   "metadata": {
    "id": "HoP29Lvk4bQC"
   },
   "outputs": [],
   "source": [
    "import bs4 as bs\n",
    "import urllib.request\n",
    "from bs4 import BeautifulSoup\n",
    "\n",
    "source = urllib.request.urlopen('https://pythonprogramming.net/parsememcparseface/').read()\n",
    "#source = urllib.request.urlopen('https://www.cnn.com/').read()"
   ]
  },
  {
   "cell_type": "code",
   "execution_count": null,
   "metadata": {
    "id": "Dq9xYw9A4nKG"
   },
   "outputs": [],
   "source": [
    "#source.\n",
    "#soup = BeautifulSoup(source, 'html.parser')\n",
    "#The lxml XML toolkit is a Pythonic binding for the C libraries libxml2 and libxslt. \n",
    "#It is unique in that it combines the speed and XML feature completeness\n",
    "soup = bs.BeautifulSoup(source,'lxml') \n",
    "#print(soup.prettify())"
   ]
  },
  {
   "cell_type": "code",
   "execution_count": null,
   "metadata": {
    "id": "40O-SoDL5pWA"
   },
   "outputs": [],
   "source": [
    "#soup.find_all('a')"
   ]
  },
  {
   "cell_type": "code",
   "execution_count": null,
   "metadata": {
    "id": "LiSXRTMm5zIy"
   },
   "outputs": [],
   "source": [
    "#soup.find_all('CNN')"
   ]
  },
  {
   "cell_type": "code",
   "execution_count": null,
   "metadata": {
    "id": "-OGnj8Ck6bN5"
   },
   "outputs": [],
   "source": [
    "#title of the page\n",
    "print(soup.title)"
   ]
  },
  {
   "cell_type": "code",
   "execution_count": null,
   "metadata": {
    "id": "sqWgOjvY7nnG"
   },
   "outputs": [],
   "source": [
    "#get attributes\n",
    "print(soup.title.name)"
   ]
  },
  {
   "cell_type": "code",
   "execution_count": null,
   "metadata": {
    "id": "H8U5CRNQ7xbM"
   },
   "outputs": [],
   "source": [
    "# get values:\n",
    "print(soup.title.string)"
   ]
  },
  {
   "cell_type": "code",
   "execution_count": null,
   "metadata": {
    "id": "hiZfAlAX79iZ"
   },
   "outputs": [],
   "source": [
    "# beginning navigation:\n",
    "print(soup.title.parent.name)\n"
   ]
  },
  {
   "cell_type": "code",
   "execution_count": null,
   "metadata": {
    "id": "jX2YC_JH8HJm"
   },
   "outputs": [],
   "source": [
    "# getting specific values:\n",
    "print(soup.p)"
   ]
  },
  {
   "cell_type": "code",
   "execution_count": null,
   "metadata": {
    "id": "zxcvMrB38NgL"
   },
   "outputs": [],
   "source": [
    "print(soup.p.prettify())"
   ]
  },
  {
   "cell_type": "code",
   "execution_count": null,
   "metadata": {
    "id": "vvUEqqp_9Nkj"
   },
   "outputs": [],
   "source": [
    "for paragraph in soup.find_all('p'):\n",
    "    print(paragraph.string)\n",
    "    print(str(paragraph.text))"
   ]
  },
  {
   "cell_type": "code",
   "execution_count": null,
   "metadata": {
    "id": "WaRiHzvQ9dcb"
   },
   "outputs": [],
   "source": [
    "for url in soup.find_all('a'):\n",
    "    print(url.get('href'))"
   ]
  }
 ],
 "metadata": {
  "colab": {
   "collapsed_sections": [],
   "name": "Beautiful-215.ipynb",
   "private_outputs": true,
   "provenance": []
  },
  "kernelspec": {
   "display_name": "Python 3",
   "language": "python",
   "name": "python3"
  },
  "language_info": {
   "codemirror_mode": {
    "name": "ipython",
    "version": 3
   },
   "file_extension": ".py",
   "mimetype": "text/x-python",
   "name": "python",
   "nbconvert_exporter": "python",
   "pygments_lexer": "ipython3",
   "version": "3.8.5"
  }
 },
 "nbformat": 4,
 "nbformat_minor": 4
}
