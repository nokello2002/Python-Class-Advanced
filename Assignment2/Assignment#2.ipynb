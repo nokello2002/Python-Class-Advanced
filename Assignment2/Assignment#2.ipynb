{
 "cells": [
  {
   "cell_type": "code",
   "execution_count": 1,
   "metadata": {},
   "outputs": [],
   "source": [
    "#imports the MySQL Connector Python module\n",
    "import mysql.connector\n",
    "from mysql.connector import Error\n"
   ]
  },
  {
   "cell_type": "code",
   "execution_count": 5,
   "metadata": {},
   "outputs": [
    {
     "name": "stdout",
     "output_type": "stream",
     "text": [
      "Connected successfully to MySQL Server Version 8.0.24\n"
     ]
    }
   ],
   "source": [
    "#Connect to the database\n",
    "try:\n",
    "    conn=mysql.connector.connect(host='127.0.0.1',\n",
    "                                database='Company',\n",
    "                                user='root',\n",
    "                                password='Th@nkuL0rd')\n",
    "    if conn.is_connected():\n",
    "        db_info=conn.get_server_info()\n",
    "        print(\"Connected successfully to MySQL Server Version\", db_info)\n",
    "    \n",
    "except Error as e:\n",
    "    print(\"Error while connecting to MySQL\", e)\n"
   ]
  },
  {
   "cell_type": "code",
   "execution_count": 6,
   "metadata": {},
   "outputs": [],
   "source": [
    "#Create a cursor to execute SQL querries\n",
    "cur=conn.cursor()"
   ]
  },
  {
   "cell_type": "code",
   "execution_count": 8,
   "metadata": {},
   "outputs": [
    {
     "name": "stdout",
     "output_type": "stream",
     "text": [
      "Table created successfully\n"
     ]
    }
   ],
   "source": [
    "#Create table Employee\n",
    "sqlstr=\"\"\"CREATE TABLE Employee (\n",
    "Employee_ID int, First_Name varchar(250), Last_Name varchar(250), Email varchar(250), Phone_Number varchar(12), \n",
    "Hire_Date date, Job_ID int, Salary float, Manager_ID int, Department_ID int)\"\"\"\n",
    "    \n",
    "cur.execute(sqlstr)\n",
    "print(\"Table created successfully\")"
   ]
  },
  {
   "cell_type": "code",
   "execution_count": 9,
   "metadata": {},
   "outputs": [
    {
     "name": "stdout",
     "output_type": "stream",
     "text": [
      "Table created successfully\n"
     ]
    }
   ],
   "source": [
    "#Create table Departments\n",
    "sqlstr=\"\"\"CREATE TABLE Departments(\n",
    "Department_ID varchar(10), Department_Name varchar(50), Location_ID varchar(10)\n",
    ")\"\"\"\n",
    "\n",
    "cur.execute(sqlstr)\n",
    "print(\"Table created successfully\")"
   ]
  },
  {
   "cell_type": "code",
   "execution_count": 10,
   "metadata": {},
   "outputs": [
    {
     "name": "stdout",
     "output_type": "stream",
     "text": [
      "Table create successfully\n"
     ]
    }
   ],
   "source": [
    "#Create table Jobs\n",
    "sqlstr=\"\"\"CREATE TABLE Jobs(\n",
    "Job_ID varchar(10), Job_Title varchar(250), Min_Salary float, Max_Salary float\n",
    ")\"\"\"\n",
    "\n",
    "cur.execute(sqlstr)\n",
    "print(\"Table create successfully\")\n"
   ]
  },
  {
   "cell_type": "code",
   "execution_count": 21,
   "metadata": {},
   "outputs": [
    {
     "name": "stdout",
     "output_type": "stream",
     "text": [
      "Records saved successfully\n"
     ]
    }
   ],
   "source": [
    "#Insert multiple records into the table Employees\n",
    "Employee_List=[\n",
    "    (1, 'John', 'Muraya', 'johnmuraya@gmail.com', '0711111111', '2000-01-01', 1, 256000, 3, 1),\n",
    "    (2, 'Elvis', 'Sango', 'sangoelvis23@yahoo.com', '0712111112', '2001-01-02', 10, 75000, 3, 4),\n",
    "    (3, 'Torome', 'Tiriki', 'torome45@yahoo.co.uk', '0713111113', '2000-07-03', 6, 120000, 3, 3),\n",
    "    (4, 'George', 'Saitoti', 'saisaitot@gmail.com', '0714111114', '2004-03-04', 8, 60000, 3, 2),\n",
    "    (5, 'Denice', 'Okello', 'OkelloD@yahoo.co.uk', '0715111115', '2005-01-05', 5, 120000, 3, 5),\n",
    "    (6, 'Dolphine', 'Kemmy', 'kemmy@hotmail.com', '0716111116', '2000-02-06', 2, 235000, 3, 1),\n",
    "    (7, 'Sue', 'Gacheri', 'gacheriSue@gmail.com', '0717111117', '2003-01-07', 9, 60000, 3, 5),\n",
    "    (8, 'Bob', 'Morgan', 'bobmorgan@yahoo.com', '0718111118', '2004-02-08', 4, 230000, 3, 3),\n",
    "    (9, 'Lucy', 'Khadija', 'lucylucy@gmail.com', '0719111119', '2004-03-09',3, 250000, 3, 5),\n",
    "    (10, 'Betty', 'Kyalo', 'kyalobetty@gmail.com', '072111120', '2003-01-10', 7, 73000, 3, 1)\n",
    "]\n",
    "\n",
    "cur.executemany(\"INSERT INTO Employee VALUES(%s,%s,%s,%s,%s,%s,%s,%s,%s,%s)\", Employee_List)\n",
    "conn.commit\n",
    "print(\"Records saved successfully\")"
   ]
  },
  {
   "cell_type": "code",
   "execution_count": 19,
   "metadata": {},
   "outputs": [
    {
     "name": "stdout",
     "output_type": "stream",
     "text": [
      "Records saved successfully\n"
     ]
    }
   ],
   "source": [
    "#Create the departments list\n",
    "Department_List=[\n",
    "    (1, 'Administration', 10),\n",
    "    (2, 'Credit', 10),\n",
    "    (3, 'ICT', 10),\n",
    "    (4, 'Business Development', 20),\n",
    "    (5, 'Operations', 20)    \n",
    "]\n",
    "\n",
    "cur.executemany(\"INSERT INTO Departments VALUES(%s,%s,%s)\", Department_List)\n",
    "conn.commit\n",
    "print(\"Records saved successfully\")"
   ]
  },
  {
   "cell_type": "code",
   "execution_count": 18,
   "metadata": {},
   "outputs": [
    {
     "name": "stdout",
     "output_type": "stream",
     "text": [
      "Records saved\n"
     ]
    }
   ],
   "source": [
    "#Create the jobs\n",
    "Jobs_List=[\n",
    "    (1, 'CEO', 250000, 300000),\n",
    "    (2, 'Finance Manager', 230000, 250000),\n",
    "    (3, 'Operations Manager', 200000, 250000),\n",
    "    (4, 'ICT Manager', 200000, 250000),\n",
    "    (5, 'Operations Officer', 100000,150000),\n",
    "    (6, 'ICT Officer', 100000, 150000),\n",
    "    (7, 'Receptionist', 70000, 100000),\n",
    "    (8, 'Credit Officer', 50000, 80000),\n",
    "    (9, 'Teller', 40000, 80000),\n",
    "    (10, 'Business Development Officer', 50000, 80000)\n",
    "]\n",
    "\n",
    "cur.executemany(\"INSERT INTO Jobs VALUES(%s,%s,%s,%s)\", Jobs_List)\n",
    "conn.commit\n",
    "print(\"Records saved\")"
   ]
  },
  {
   "cell_type": "code",
   "execution_count": 26,
   "metadata": {},
   "outputs": [
    {
     "name": "stdout",
     "output_type": "stream",
     "text": [
      "(1, 'John', 'Muraya', 'johnmuraya@gmail.com', '0711111111', datetime.date(2000, 1, 1), 1, 256000.0, 3, 1)\n",
      "(2, 'Elvis', 'Sango', 'sangoelvis23@yahoo.com', '0712111112', datetime.date(2001, 1, 2), 10, 75000.0, 3, 4)\n",
      "(3, 'Torome', 'Tiriki', 'torome45@yahoo.co.uk', '0713111113', datetime.date(2000, 7, 3), 6, 120000.0, 3, 3)\n",
      "(4, 'George', 'Saitoti', 'saisaitot@gmail.com', '0714111114', datetime.date(2004, 3, 4), 8, 60000.0, 3, 2)\n",
      "(5, 'Denice', 'Okello', 'OkelloD@yahoo.co.uk', '0715111115', datetime.date(2005, 1, 5), 5, 120000.0, 3, 5)\n",
      "(6, 'Dolphine', 'Kemmy', 'kemmy@hotmail.com', '0716111116', datetime.date(2000, 2, 6), 2, 235000.0, 3, 1)\n",
      "(7, 'Sue', 'Gacheri', 'gacheriSue@gmail.com', '0717111117', datetime.date(2003, 1, 7), 9, 60000.0, 3, 5)\n",
      "(8, 'Bob', 'Morgan', 'bobmorgan@yahoo.com', '0718111118', datetime.date(2004, 2, 8), 4, 230000.0, 3, 3)\n",
      "(9, 'Lucy', 'Khadija', 'lucylucy@gmail.com', '0719111119', datetime.date(2004, 3, 9), 3, 250000.0, 3, 5)\n",
      "(10, 'Betty', 'Kyalo', 'kyalobetty@gmail.com', '072111120', datetime.date(2003, 1, 10), 7, 73000.0, 3, 1)\n"
     ]
    }
   ],
   "source": [
    "#Display contents of the Employee table\n",
    "sqlstr=\"SELECT * FROM Employee\"\n",
    "\n",
    "cur.execute (sqlstr)\n",
    "result=cur.fetchall()\n",
    "for row in result:\n",
    "    print (row)"
   ]
  },
  {
   "cell_type": "code",
   "execution_count": 27,
   "metadata": {},
   "outputs": [
    {
     "name": "stdout",
     "output_type": "stream",
     "text": [
      "('1', 'Administration', '10')\n",
      "('2', 'Credit', '10')\n",
      "('3', 'ICT', '10')\n",
      "('4', 'Business Development', '20')\n",
      "('5', 'Operations', '20')\n"
     ]
    }
   ],
   "source": [
    "#Display the contents of the Department table\n",
    "sqlstr=\"SELECT * FROM Departments\"\n",
    "cur.execute(sqlstr)\n",
    "result=cur.fetchall()\n",
    "for row in result:\n",
    "    print(row)"
   ]
  },
  {
   "cell_type": "code",
   "execution_count": 28,
   "metadata": {},
   "outputs": [
    {
     "name": "stdout",
     "output_type": "stream",
     "text": [
      "('1', 'CEO', 250000.0, 300000.0)\n",
      "('2', 'Finance Manager', 230000.0, 250000.0)\n",
      "('3', 'Operations Manager', 200000.0, 250000.0)\n",
      "('4', 'ICT Manager', 200000.0, 250000.0)\n",
      "('5', 'Operations Officer', 100000.0, 150000.0)\n",
      "('6', 'ICT Officer', 100000.0, 150000.0)\n",
      "('7', 'Receptionist', 70000.0, 100000.0)\n",
      "('8', 'Credit Officer', 50000.0, 80000.0)\n",
      "('9', 'Teller', 40000.0, 80000.0)\n",
      "('10', 'Business Development Officer', 50000.0, 80000.0)\n"
     ]
    }
   ],
   "source": [
    "sqlstr=\"SELECT * FROM Jobs\"\n",
    "\n",
    "cur.execute(sqlstr)\n",
    "result=cur.fetchall()\n",
    "for row in result:\n",
    "    print(row)"
   ]
  },
  {
   "cell_type": "code",
   "execution_count": 24,
   "metadata": {},
   "outputs": [
    {
     "name": "stdout",
     "output_type": "stream",
     "text": [
      "(1, 'John', 'Muraya', 'johnmuraya@gmail.com', '0711111111', datetime.date(2000, 1, 1), 1, 256000.0, 3, 1, '1', 'Administration', '10', '1', 'CEO', 250000.0, 300000.0)\n",
      "(6, 'Dolphine', 'Kemmy', 'kemmy@hotmail.com', '0716111116', datetime.date(2000, 2, 6), 2, 235000.0, 3, 1, '1', 'Administration', '10', '2', 'Finance Manager', 230000.0, 250000.0)\n",
      "(9, 'Lucy', 'Khadija', 'lucylucy@gmail.com', '0719111119', datetime.date(2004, 3, 9), 3, 250000.0, 3, 5, '5', 'Operations', '20', '3', 'Operations Manager', 200000.0, 250000.0)\n",
      "(8, 'Bob', 'Morgan', 'bobmorgan@yahoo.com', '0718111118', datetime.date(2004, 2, 8), 4, 230000.0, 3, 3, '3', 'ICT', '10', '4', 'ICT Manager', 200000.0, 250000.0)\n",
      "(5, 'Denice', 'Okello', 'OkelloD@yahoo.co.uk', '0715111115', datetime.date(2005, 1, 5), 5, 120000.0, 3, 5, '5', 'Operations', '20', '5', 'Operations Officer', 100000.0, 150000.0)\n",
      "(3, 'Torome', 'Tiriki', 'torome45@yahoo.co.uk', '0713111113', datetime.date(2000, 7, 3), 6, 120000.0, 3, 3, '3', 'ICT', '10', '6', 'ICT Officer', 100000.0, 150000.0)\n",
      "(10, 'Betty', 'Kyalo', 'kyalobetty@gmail.com', '072111120', datetime.date(2003, 1, 10), 7, 73000.0, 3, 1, '1', 'Administration', '10', '7', 'Receptionist', 70000.0, 100000.0)\n",
      "(4, 'George', 'Saitoti', 'saisaitot@gmail.com', '0714111114', datetime.date(2004, 3, 4), 8, 60000.0, 3, 2, '2', 'Credit', '10', '8', 'Credit Officer', 50000.0, 80000.0)\n",
      "(7, 'Sue', 'Gacheri', 'gacheriSue@gmail.com', '0717111117', datetime.date(2003, 1, 7), 9, 60000.0, 3, 5, '5', 'Operations', '20', '9', 'Teller', 40000.0, 80000.0)\n",
      "(2, 'Elvis', 'Sango', 'sangoelvis23@yahoo.com', '0712111112', datetime.date(2001, 1, 2), 10, 75000.0, 3, 4, '4', 'Business Development', '20', '10', 'Business Development Officer', 50000.0, 80000.0)\n"
     ]
    }
   ],
   "source": [
    "#Display the contents of all the 3 tables\n",
    "sqlstr=\"SELECT * FROM Employee INNER JOIN Departments ON Departments.Department_ID = Employee.Department_ID INNER JOIN Jobs ON Jobs.Job_ID =Employee.Job_ID\"\n",
    "\n",
    "cur.execute(sqlstr)\n",
    "result=cur.fetchall()\n",
    "for row in result:\n",
    "    print(row)"
   ]
  },
  {
   "cell_type": "code",
   "execution_count": 30,
   "metadata": {},
   "outputs": [
    {
     "name": "stdout",
     "output_type": "stream",
     "text": [
      "Record saved successfully\n"
     ]
    }
   ],
   "source": [
    "#update the Employee table\n",
    "New_Emp_List=[\n",
    "    (91, 'Annabel','Nganga','annabel_nganga@yahoo.com', '0722101010', '2004-05-23', 9, 65000, 1, 5),\n",
    "    (92, 'Esther','Wambui', 'esther.wambui@gmail.com', '0723101010', '2005-07-19', 10, 70000, 2, 4),\n",
    "    (94, 'Migot', 'Ndede', 'migot-ndede@hotmail.com', '0724101110', '2003-10-10', 8, 68000, 2, 2)\n",
    "]\n",
    "\n",
    "cur.executemany(\"INSERT INTO Employee VALUES(%s, %s, %s, %s, %s, %s, %s, %s, %s, %s)\", New_Emp_List)\n",
    "conn.commit\n",
    "print(\"Record saved successfully\")"
   ]
  },
  {
   "cell_type": "code",
   "execution_count": 37,
   "metadata": {},
   "outputs": [
    {
     "name": "stdout",
     "output_type": "stream",
     "text": [
      "Table structure altered successfully\n"
     ]
    }
   ],
   "source": [
    "#Alter the table Employee\n",
    "sqlstr=\"ALTER TABLE Employee ADD Cellphone varchar(12), ADD Physical_Address varchar(250);\"\n",
    "\n",
    "cur.execute(sqlstr)\n",
    "print(\"Table structure altered successfully\")"
   ]
  },
  {
   "cell_type": "code",
   "execution_count": 39,
   "metadata": {},
   "outputs": [
    {
     "name": "stdout",
     "output_type": "stream",
     "text": [
      "Record updated successfully\n"
     ]
    }
   ],
   "source": [
    "#Editing a record\n",
    "sqlstr=\"UPDATE Employee SET First_Name= 'George' WHERE Employee_ID=94\"\n",
    "\n",
    "cur.execute(sqlstr)\n",
    "conn.commit()\n",
    "print(\"Record updated successfully\")"
   ]
  },
  {
   "cell_type": "code",
   "execution_count": 40,
   "metadata": {},
   "outputs": [
    {
     "name": "stdout",
     "output_type": "stream",
     "text": [
      "(94, 'George', 'Ndede', 'migot-ndede@hotmail.com', '0724101110', datetime.date(2003, 10, 10), 8, 68000.0, 2, 2, None, None)\n"
     ]
    }
   ],
   "source": [
    "#Review the updated record\n",
    "sqlstr=\"SELECT * FROM Employee WHERE Employee_ID=94\"\n",
    "\n",
    "cur.execute(sqlstr)\n",
    "result=cur.fetchall()\n",
    "for row in result:\n",
    "    print(row)"
   ]
  },
  {
   "cell_type": "code",
   "execution_count": 41,
   "metadata": {},
   "outputs": [
    {
     "name": "stdout",
     "output_type": "stream",
     "text": [
      "Record deleted successfully\n"
     ]
    }
   ],
   "source": [
    "#Delete record from the table employee\n",
    "sqlstr=\"DELETE FROM Employee WHERE Employee_ID=94\"\n",
    "\n",
    "cur.execute(sqlstr)\n",
    "conn.commit()\n",
    "print(\"Record deleted successfully\")"
   ]
  },
  {
   "cell_type": "code",
   "execution_count": null,
   "metadata": {},
   "outputs": [],
   "source": []
  }
 ],
 "metadata": {
  "kernelspec": {
   "display_name": "Python 3",
   "language": "python",
   "name": "python3"
  },
  "language_info": {
   "codemirror_mode": {
    "name": "ipython",
    "version": 3
   },
   "file_extension": ".py",
   "mimetype": "text/x-python",
   "name": "python",
   "nbconvert_exporter": "python",
   "pygments_lexer": "ipython3",
   "version": "3.8.5"
  }
 },
 "nbformat": 4,
 "nbformat_minor": 4
}
