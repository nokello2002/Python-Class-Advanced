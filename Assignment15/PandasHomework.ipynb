{
 "cells": [
  {
   "cell_type": "code",
   "execution_count": 1,
   "metadata": {},
   "outputs": [
    {
     "data": {
      "text/plain": [
       "'1.1.3'"
      ]
     },
     "execution_count": 1,
     "metadata": {},
     "output_type": "execute_result"
    }
   ],
   "source": [
    "import pandas as pd\n",
    "pd.__version__"
   ]
  },
  {
   "cell_type": "code",
   "execution_count": 2,
   "metadata": {},
   "outputs": [],
   "source": [
    "#run and create DataFrame from below code\n",
    "df = pd.DataFrame({'period': [1, 2, 3, 4, 5, 6, 7, 8],\n",
    "                   'A_sales': [12, 14, 15, 13, 18, 20, 19, 24],\n",
    "                   'B_sales': [14, 19, 20, 22, 24, 20, 17, 23]})\n"
   ]
  },
  {
   "cell_type": "code",
   "execution_count": 3,
   "metadata": {},
   "outputs": [
    {
     "name": "stdout",
     "output_type": "stream",
     "text": [
      "   period  A_sales  B_sales\n",
      "0       1       12       14\n",
      "1       2       14       19\n",
      "2       3       15       20\n",
      "3       4       13       22\n",
      "4       5       18       24\n",
      "5       6       20       20\n",
      "6       7       19       17\n",
      "7       8       24       23\n"
     ]
    }
   ],
   "source": [
    "#Q1: Print the DataFrame and display on screen\n",
    "print(df)"
   ]
  },
  {
   "cell_type": "code",
   "execution_count": 7,
   "metadata": {},
   "outputs": [
    {
     "name": "stdout",
     "output_type": "stream",
     "text": [
      "   period  A_sales  B_sales  Sales_Diff\n",
      "0       1       12       14           2\n",
      "1       2       14       19           5\n",
      "2       3       15       20           5\n",
      "3       4       13       22           9\n",
      "4       5       18       24           6\n",
      "5       6       20       20           0\n",
      "6       7       19       17          -2\n",
      "7       8       24       23          -1\n"
     ]
    }
   ],
   "source": [
    "#Q2: Calculate the difference between the sales in region B and region A for each sales period\n",
    "\n",
    "index = df.index\n",
    "number_of_rows = len(index)\n",
    "\n",
    "df[\"Sales_Diff\"]= df.B_sales - df.A_sales\n",
    "#print (df[\"Sales_Diff\"])\n",
    "print(df)"
   ]
  },
  {
   "cell_type": "code",
   "execution_count": 9,
   "metadata": {},
   "outputs": [
    {
     "name": "stdout",
     "output_type": "stream",
     "text": [
      "   period  A_sales  B_sales  Sales_Diff\n",
      "6       7       19       17          -2\n",
      "7       8       24       23          -1\n"
     ]
    }
   ],
   "source": [
    "#Q3: Calculate and return only the rows where the the sales in region A is greater than the sales in region B:\n",
    "\n",
    "#Slicing the dataframe\n",
    "\n",
    "AGreaterThanB=df.loc[(df[\"Sales_Diff\"] <0),[\"period\",\"A_sales\",\"B_sales\",\"Sales_Diff\"]]\n",
    "print(AGreaterThanB)"
   ]
  },
  {
   "cell_type": "code",
   "execution_count": null,
   "metadata": {},
   "outputs": [],
   "source": []
  }
 ],
 "metadata": {
  "kernelspec": {
   "display_name": "Python 3",
   "language": "python",
   "name": "python3"
  },
  "language_info": {
   "codemirror_mode": {
    "name": "ipython",
    "version": 3
   },
   "file_extension": ".py",
   "mimetype": "text/x-python",
   "name": "python",
   "nbconvert_exporter": "python",
   "pygments_lexer": "ipython3",
   "version": "3.8.5"
  }
 },
 "nbformat": 4,
 "nbformat_minor": 4
}
