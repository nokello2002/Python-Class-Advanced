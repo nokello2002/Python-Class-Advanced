{
 "cells": [
  {
   "cell_type": "code",
   "execution_count": 3,
   "metadata": {},
   "outputs": [],
   "source": [
    "import pandas as pd\n",
    "import numpy as np"
   ]
  },
  {
   "cell_type": "code",
   "execution_count": 4,
   "metadata": {},
   "outputs": [
    {
     "data": {
      "text/plain": [
       "'1.1.3'"
      ]
     },
     "execution_count": 4,
     "metadata": {},
     "output_type": "execute_result"
    }
   ],
   "source": [
    "pd.__version__"
   ]
  },
  {
   "cell_type": "code",
   "execution_count": 5,
   "metadata": {},
   "outputs": [
    {
     "data": {
      "text/plain": [
       "'1.19.2'"
      ]
     },
     "execution_count": 5,
     "metadata": {},
     "output_type": "execute_result"
    }
   ],
   "source": [
    "np.__version__"
   ]
  },
  {
   "cell_type": "code",
   "execution_count": 6,
   "metadata": {},
   "outputs": [
    {
     "name": "stdout",
     "output_type": "stream",
     "text": [
      "              Name Class     Lectures  Grades  Credits Retake\n",
      "0   Benjamin Duran     A  Mathematics      90        6     No\n",
      "1   Benjamin Duran     A    Chemistry      54        6     No\n",
      "2   Benjamin Duran     A      Physics      77        6     No\n",
      "3   Benjamin Duran     A      History      22        5    Yes\n",
      "4   Benjamin Duran     A    Geography      25        5    Yes\n",
      "5   Benjamin Duran     A       German      70        4     No\n",
      "6   Safia hatfield     B  Mathematics      90        6     No\n",
      "7   Safia hatfield     B    Chemistry      90        6     No\n",
      "8   Safia hatfield     B      Physics      90        6     No\n",
      "9   Safia hatfield     B      History      45        5     No\n",
      "10  Safia hatfield     B    Geography      90        5     No\n",
      "11  Safia hatfield     B       German      90        4     No\n",
      "12      Toni Doyle     C  Mathematics      70        6     No\n",
      "13      Toni Doyle     C    Chemistry      44        6    Yes\n",
      "14      Toni Doyle     C      Physics      56        6     No\n",
      "15      Toni Doyle     C      History      77        5     No\n",
      "16      Toni Doyle     C    Geography      35        5    Yes\n",
      "17      Toni Doyle     C       German      99        4     No\n"
     ]
    }
   ],
   "source": [
    "#importing data set\n",
    "df=pd.read_csv(r\"C:\\Users\\HP\\Python-Class-Advanced\\Assignment15\\Grades.csv\")\n",
    "print(df)"
   ]
  },
  {
   "cell_type": "code",
   "execution_count": 7,
   "metadata": {},
   "outputs": [
    {
     "data": {
      "text/html": [
       "<div>\n",
       "<style scoped>\n",
       "    .dataframe tbody tr th:only-of-type {\n",
       "        vertical-align: middle;\n",
       "    }\n",
       "\n",
       "    .dataframe tbody tr th {\n",
       "        vertical-align: top;\n",
       "    }\n",
       "\n",
       "    .dataframe thead th {\n",
       "        text-align: right;\n",
       "    }\n",
       "</style>\n",
       "<table border=\"1\" class=\"dataframe\">\n",
       "  <thead>\n",
       "    <tr style=\"text-align: right;\">\n",
       "      <th></th>\n",
       "      <th>Classes</th>\n",
       "      <th>grades</th>\n",
       "    </tr>\n",
       "  </thead>\n",
       "  <tbody>\n",
       "    <tr>\n",
       "      <th>0</th>\n",
       "      <td>Mathematics</td>\n",
       "      <td>90.0</td>\n",
       "    </tr>\n",
       "    <tr>\n",
       "      <th>1</th>\n",
       "      <td>Chemistry</td>\n",
       "      <td>54.0</td>\n",
       "    </tr>\n",
       "    <tr>\n",
       "      <th>2</th>\n",
       "      <td>Physics</td>\n",
       "      <td>77.0</td>\n",
       "    </tr>\n",
       "    <tr>\n",
       "      <th>3</th>\n",
       "      <td>History</td>\n",
       "      <td>22.0</td>\n",
       "    </tr>\n",
       "    <tr>\n",
       "      <th>4</th>\n",
       "      <td>Geography</td>\n",
       "      <td>25.0</td>\n",
       "    </tr>\n",
       "    <tr>\n",
       "      <th>5</th>\n",
       "      <td>German</td>\n",
       "      <td>NaN</td>\n",
       "    </tr>\n",
       "  </tbody>\n",
       "</table>\n",
       "</div>"
      ],
      "text/plain": [
       "       Classes  grades\n",
       "0  Mathematics    90.0\n",
       "1    Chemistry    54.0\n",
       "2      Physics    77.0\n",
       "3      History    22.0\n",
       "4    Geography    25.0\n",
       "5       German     NaN"
      ]
     },
     "execution_count": 7,
     "metadata": {},
     "output_type": "execute_result"
    }
   ],
   "source": [
    "#Creating a dataframe\n",
    "\n",
    "classes=pd.Series([\"Mathematics\",\"Chemistry\",\"Physics\",\"History\",\"Geography\",\"German\"])\n",
    "grades  = pd.Series([90,54,77,22,25])\n",
    "pd.DataFrame({\"Classes\": classes, \"grades\":grades})"
   ]
  },
  {
   "cell_type": "code",
   "execution_count": 13,
   "metadata": {},
   "outputs": [
    {
     "name": "stdout",
     "output_type": "stream",
     "text": [
      "             Name     Lectures  Grades  Credits Retake\n",
      "0  Benjamin Duran  Mathematics      90        6     No\n",
      "1  Benjamin Duran    Chemistry      54        6     No\n",
      "2  Benjamin Duran      Physics      77        6     No\n",
      "3  Benjamin Duran      History      22        5    Yes\n",
      "4  Benjamin Duran    Geography      25        5    Yes\n",
      "5  Benjamin Duran       German      70        4     No\n"
     ]
    }
   ],
   "source": [
    "#Slicing the dataframe\n",
    "\n",
    "Benja=df.loc[(df[\"Name\"]==\"Benjamin Duran\"),[\"Name\",\"Lectures\",\"Grades\",\"Credits\",\"Retake\"]]\n",
    "print(Benja)"
   ]
  },
  {
   "cell_type": "code",
   "execution_count": 19,
   "metadata": {},
   "outputs": [
    {
     "name": "stdout",
     "output_type": "stream",
     "text": [
      "              Name Class     Lectures  Grades  Credits Retake\n",
      "6   Safia hatfield     B  Mathematics      90        6     No\n",
      "7   Safia hatfield     B    Chemistry      90        6     No\n",
      "8   Safia hatfield     B      Physics      90        6     No\n",
      "9   Safia hatfield     B      History      45        5     No\n",
      "10  Safia hatfield     B    Geography      90        5     No\n",
      "11  Safia hatfield     B       German      90        4     No\n"
     ]
    }
   ],
   "source": [
    "#Slicing the dataframe\n",
    "\n",
    "sofia=df.iloc[6:12, 0:]\n",
    "print(sofia)"
   ]
  },
  {
   "cell_type": "code",
   "execution_count": 21,
   "metadata": {},
   "outputs": [
    {
     "name": "stdout",
     "output_type": "stream",
     "text": [
      "       Lectures  Grades  Credits Retake\n",
      "6   Mathematics      90        6     No\n",
      "7     Chemistry      90        6     No\n",
      "8       Physics      90        6     No\n",
      "9       History      45        5     No\n",
      "10    Geography      90        5     No\n",
      "11       German      90        4     No\n"
     ]
    }
   ],
   "source": [
    "#Slicing the dataframe\n",
    "Sofia_Grades = df.iloc[[6,7,8,9,10,11],[2,3,4,5]]\n",
    "print(Sofia_Grades)"
   ]
  },
  {
   "cell_type": "code",
   "execution_count": 22,
   "metadata": {},
   "outputs": [
    {
     "data": {
      "text/html": [
       "<div>\n",
       "<style scoped>\n",
       "    .dataframe tbody tr th:only-of-type {\n",
       "        vertical-align: middle;\n",
       "    }\n",
       "\n",
       "    .dataframe tbody tr th {\n",
       "        vertical-align: top;\n",
       "    }\n",
       "\n",
       "    .dataframe thead th {\n",
       "        text-align: right;\n",
       "    }\n",
       "</style>\n",
       "<table border=\"1\" class=\"dataframe\">\n",
       "  <thead>\n",
       "    <tr style=\"text-align: right;\">\n",
       "      <th></th>\n",
       "      <th></th>\n",
       "      <th>Class</th>\n",
       "      <th>Grades</th>\n",
       "      <th>Credits</th>\n",
       "      <th>Retake</th>\n",
       "    </tr>\n",
       "    <tr>\n",
       "      <th>Lectures</th>\n",
       "      <th>Name</th>\n",
       "      <th></th>\n",
       "      <th></th>\n",
       "      <th></th>\n",
       "      <th></th>\n",
       "    </tr>\n",
       "  </thead>\n",
       "  <tbody>\n",
       "    <tr>\n",
       "      <th rowspan=\"3\" valign=\"top\">Chemistry</th>\n",
       "      <th>Benjamin Duran</th>\n",
       "      <td>A</td>\n",
       "      <td>54</td>\n",
       "      <td>6</td>\n",
       "      <td>No</td>\n",
       "    </tr>\n",
       "    <tr>\n",
       "      <th>Safia hatfield</th>\n",
       "      <td>B</td>\n",
       "      <td>90</td>\n",
       "      <td>6</td>\n",
       "      <td>No</td>\n",
       "    </tr>\n",
       "    <tr>\n",
       "      <th>Toni Doyle</th>\n",
       "      <td>C</td>\n",
       "      <td>44</td>\n",
       "      <td>6</td>\n",
       "      <td>Yes</td>\n",
       "    </tr>\n",
       "    <tr>\n",
       "      <th rowspan=\"3\" valign=\"top\">Geography</th>\n",
       "      <th>Benjamin Duran</th>\n",
       "      <td>A</td>\n",
       "      <td>25</td>\n",
       "      <td>5</td>\n",
       "      <td>Yes</td>\n",
       "    </tr>\n",
       "    <tr>\n",
       "      <th>Safia hatfield</th>\n",
       "      <td>B</td>\n",
       "      <td>90</td>\n",
       "      <td>5</td>\n",
       "      <td>No</td>\n",
       "    </tr>\n",
       "    <tr>\n",
       "      <th>Toni Doyle</th>\n",
       "      <td>C</td>\n",
       "      <td>35</td>\n",
       "      <td>5</td>\n",
       "      <td>Yes</td>\n",
       "    </tr>\n",
       "    <tr>\n",
       "      <th rowspan=\"3\" valign=\"top\">German</th>\n",
       "      <th>Benjamin Duran</th>\n",
       "      <td>A</td>\n",
       "      <td>70</td>\n",
       "      <td>4</td>\n",
       "      <td>No</td>\n",
       "    </tr>\n",
       "    <tr>\n",
       "      <th>Safia hatfield</th>\n",
       "      <td>B</td>\n",
       "      <td>90</td>\n",
       "      <td>4</td>\n",
       "      <td>No</td>\n",
       "    </tr>\n",
       "    <tr>\n",
       "      <th>Toni Doyle</th>\n",
       "      <td>C</td>\n",
       "      <td>99</td>\n",
       "      <td>4</td>\n",
       "      <td>No</td>\n",
       "    </tr>\n",
       "    <tr>\n",
       "      <th rowspan=\"3\" valign=\"top\">History</th>\n",
       "      <th>Benjamin Duran</th>\n",
       "      <td>A</td>\n",
       "      <td>22</td>\n",
       "      <td>5</td>\n",
       "      <td>Yes</td>\n",
       "    </tr>\n",
       "    <tr>\n",
       "      <th>Safia hatfield</th>\n",
       "      <td>B</td>\n",
       "      <td>45</td>\n",
       "      <td>5</td>\n",
       "      <td>No</td>\n",
       "    </tr>\n",
       "    <tr>\n",
       "      <th>Toni Doyle</th>\n",
       "      <td>C</td>\n",
       "      <td>77</td>\n",
       "      <td>5</td>\n",
       "      <td>No</td>\n",
       "    </tr>\n",
       "    <tr>\n",
       "      <th rowspan=\"3\" valign=\"top\">Mathematics</th>\n",
       "      <th>Benjamin Duran</th>\n",
       "      <td>A</td>\n",
       "      <td>90</td>\n",
       "      <td>6</td>\n",
       "      <td>No</td>\n",
       "    </tr>\n",
       "    <tr>\n",
       "      <th>Safia hatfield</th>\n",
       "      <td>B</td>\n",
       "      <td>90</td>\n",
       "      <td>6</td>\n",
       "      <td>No</td>\n",
       "    </tr>\n",
       "    <tr>\n",
       "      <th>Toni Doyle</th>\n",
       "      <td>C</td>\n",
       "      <td>70</td>\n",
       "      <td>6</td>\n",
       "      <td>No</td>\n",
       "    </tr>\n",
       "    <tr>\n",
       "      <th rowspan=\"3\" valign=\"top\">Physics</th>\n",
       "      <th>Benjamin Duran</th>\n",
       "      <td>A</td>\n",
       "      <td>77</td>\n",
       "      <td>6</td>\n",
       "      <td>No</td>\n",
       "    </tr>\n",
       "    <tr>\n",
       "      <th>Safia hatfield</th>\n",
       "      <td>B</td>\n",
       "      <td>90</td>\n",
       "      <td>6</td>\n",
       "      <td>No</td>\n",
       "    </tr>\n",
       "    <tr>\n",
       "      <th>Toni Doyle</th>\n",
       "      <td>C</td>\n",
       "      <td>56</td>\n",
       "      <td>6</td>\n",
       "      <td>No</td>\n",
       "    </tr>\n",
       "  </tbody>\n",
       "</table>\n",
       "</div>"
      ],
      "text/plain": [
       "                           Class  Grades  Credits Retake\n",
       "Lectures    Name                                        \n",
       "Chemistry   Benjamin Duran     A      54        6     No\n",
       "            Safia hatfield     B      90        6     No\n",
       "            Toni Doyle         C      44        6    Yes\n",
       "Geography   Benjamin Duran     A      25        5    Yes\n",
       "            Safia hatfield     B      90        5     No\n",
       "            Toni Doyle         C      35        5    Yes\n",
       "German      Benjamin Duran     A      70        4     No\n",
       "            Safia hatfield     B      90        4     No\n",
       "            Toni Doyle         C      99        4     No\n",
       "History     Benjamin Duran     A      22        5    Yes\n",
       "            Safia hatfield     B      45        5     No\n",
       "            Toni Doyle         C      77        5     No\n",
       "Mathematics Benjamin Duran     A      90        6     No\n",
       "            Safia hatfield     B      90        6     No\n",
       "            Toni Doyle         C      70        6     No\n",
       "Physics     Benjamin Duran     A      77        6     No\n",
       "            Safia hatfield     B      90        6     No\n",
       "            Toni Doyle         C      56        6     No"
      ]
     },
     "execution_count": 22,
     "metadata": {},
     "output_type": "execute_result"
    }
   ],
   "source": [
    "#Grouping data using Pandas\n",
    "\n",
    "df.groupby([\"Lectures\",\"Name\"]).first()"
   ]
  },
  {
   "cell_type": "code",
   "execution_count": 23,
   "metadata": {},
   "outputs": [
    {
     "data": {
      "text/html": [
       "<div>\n",
       "<style scoped>\n",
       "    .dataframe tbody tr th:only-of-type {\n",
       "        vertical-align: middle;\n",
       "    }\n",
       "\n",
       "    .dataframe tbody tr th {\n",
       "        vertical-align: top;\n",
       "    }\n",
       "\n",
       "    .dataframe thead th {\n",
       "        text-align: right;\n",
       "    }\n",
       "</style>\n",
       "<table border=\"1\" class=\"dataframe\">\n",
       "  <thead>\n",
       "    <tr style=\"text-align: right;\">\n",
       "      <th></th>\n",
       "      <th></th>\n",
       "      <th>Class</th>\n",
       "      <th>Grades</th>\n",
       "      <th>Credits</th>\n",
       "      <th>Retake</th>\n",
       "    </tr>\n",
       "    <tr>\n",
       "      <th>Lectures</th>\n",
       "      <th>Name</th>\n",
       "      <th></th>\n",
       "      <th></th>\n",
       "      <th></th>\n",
       "      <th></th>\n",
       "    </tr>\n",
       "  </thead>\n",
       "  <tbody>\n",
       "    <tr>\n",
       "      <th rowspan=\"3\" valign=\"top\">Chemistry</th>\n",
       "      <th>Benjamin Duran</th>\n",
       "      <td>A</td>\n",
       "      <td>54</td>\n",
       "      <td>6</td>\n",
       "      <td>No</td>\n",
       "    </tr>\n",
       "    <tr>\n",
       "      <th>Safia hatfield</th>\n",
       "      <td>B</td>\n",
       "      <td>90</td>\n",
       "      <td>6</td>\n",
       "      <td>No</td>\n",
       "    </tr>\n",
       "    <tr>\n",
       "      <th>Toni Doyle</th>\n",
       "      <td>C</td>\n",
       "      <td>44</td>\n",
       "      <td>6</td>\n",
       "      <td>Yes</td>\n",
       "    </tr>\n",
       "    <tr>\n",
       "      <th rowspan=\"3\" valign=\"top\">Geography</th>\n",
       "      <th>Benjamin Duran</th>\n",
       "      <td>A</td>\n",
       "      <td>25</td>\n",
       "      <td>5</td>\n",
       "      <td>Yes</td>\n",
       "    </tr>\n",
       "    <tr>\n",
       "      <th>Safia hatfield</th>\n",
       "      <td>B</td>\n",
       "      <td>90</td>\n",
       "      <td>5</td>\n",
       "      <td>No</td>\n",
       "    </tr>\n",
       "    <tr>\n",
       "      <th>Toni Doyle</th>\n",
       "      <td>C</td>\n",
       "      <td>35</td>\n",
       "      <td>5</td>\n",
       "      <td>Yes</td>\n",
       "    </tr>\n",
       "    <tr>\n",
       "      <th rowspan=\"3\" valign=\"top\">German</th>\n",
       "      <th>Benjamin Duran</th>\n",
       "      <td>A</td>\n",
       "      <td>70</td>\n",
       "      <td>4</td>\n",
       "      <td>No</td>\n",
       "    </tr>\n",
       "    <tr>\n",
       "      <th>Safia hatfield</th>\n",
       "      <td>B</td>\n",
       "      <td>90</td>\n",
       "      <td>4</td>\n",
       "      <td>No</td>\n",
       "    </tr>\n",
       "    <tr>\n",
       "      <th>Toni Doyle</th>\n",
       "      <td>C</td>\n",
       "      <td>99</td>\n",
       "      <td>4</td>\n",
       "      <td>No</td>\n",
       "    </tr>\n",
       "    <tr>\n",
       "      <th rowspan=\"3\" valign=\"top\">History</th>\n",
       "      <th>Benjamin Duran</th>\n",
       "      <td>A</td>\n",
       "      <td>22</td>\n",
       "      <td>5</td>\n",
       "      <td>Yes</td>\n",
       "    </tr>\n",
       "    <tr>\n",
       "      <th>Safia hatfield</th>\n",
       "      <td>B</td>\n",
       "      <td>45</td>\n",
       "      <td>5</td>\n",
       "      <td>No</td>\n",
       "    </tr>\n",
       "    <tr>\n",
       "      <th>Toni Doyle</th>\n",
       "      <td>C</td>\n",
       "      <td>77</td>\n",
       "      <td>5</td>\n",
       "      <td>No</td>\n",
       "    </tr>\n",
       "    <tr>\n",
       "      <th rowspan=\"3\" valign=\"top\">Mathematics</th>\n",
       "      <th>Benjamin Duran</th>\n",
       "      <td>A</td>\n",
       "      <td>90</td>\n",
       "      <td>6</td>\n",
       "      <td>No</td>\n",
       "    </tr>\n",
       "    <tr>\n",
       "      <th>Safia hatfield</th>\n",
       "      <td>B</td>\n",
       "      <td>90</td>\n",
       "      <td>6</td>\n",
       "      <td>No</td>\n",
       "    </tr>\n",
       "    <tr>\n",
       "      <th>Toni Doyle</th>\n",
       "      <td>C</td>\n",
       "      <td>70</td>\n",
       "      <td>6</td>\n",
       "      <td>No</td>\n",
       "    </tr>\n",
       "    <tr>\n",
       "      <th rowspan=\"3\" valign=\"top\">Physics</th>\n",
       "      <th>Benjamin Duran</th>\n",
       "      <td>A</td>\n",
       "      <td>77</td>\n",
       "      <td>6</td>\n",
       "      <td>No</td>\n",
       "    </tr>\n",
       "    <tr>\n",
       "      <th>Safia hatfield</th>\n",
       "      <td>B</td>\n",
       "      <td>90</td>\n",
       "      <td>6</td>\n",
       "      <td>No</td>\n",
       "    </tr>\n",
       "    <tr>\n",
       "      <th>Toni Doyle</th>\n",
       "      <td>C</td>\n",
       "      <td>56</td>\n",
       "      <td>6</td>\n",
       "      <td>No</td>\n",
       "    </tr>\n",
       "  </tbody>\n",
       "</table>\n",
       "</div>"
      ],
      "text/plain": [
       "                           Class  Grades  Credits Retake\n",
       "Lectures    Name                                        \n",
       "Chemistry   Benjamin Duran     A      54        6     No\n",
       "            Safia hatfield     B      90        6     No\n",
       "            Toni Doyle         C      44        6    Yes\n",
       "Geography   Benjamin Duran     A      25        5    Yes\n",
       "            Safia hatfield     B      90        5     No\n",
       "            Toni Doyle         C      35        5    Yes\n",
       "German      Benjamin Duran     A      70        4     No\n",
       "            Safia hatfield     B      90        4     No\n",
       "            Toni Doyle         C      99        4     No\n",
       "History     Benjamin Duran     A      22        5    Yes\n",
       "            Safia hatfield     B      45        5     No\n",
       "            Toni Doyle         C      77        5     No\n",
       "Mathematics Benjamin Duran     A      90        6     No\n",
       "            Safia hatfield     B      90        6     No\n",
       "            Toni Doyle         C      70        6     No\n",
       "Physics     Benjamin Duran     A      77        6     No\n",
       "            Safia hatfield     B      90        6     No\n",
       "            Toni Doyle         C      56        6     No"
      ]
     },
     "execution_count": 23,
     "metadata": {},
     "output_type": "execute_result"
    }
   ],
   "source": [
    "#Grouping data using Pandas\n",
    "\n",
    "df.groupby([\"Lectures\",\"Name\"]).last()"
   ]
  },
  {
   "cell_type": "code",
   "execution_count": 24,
   "metadata": {},
   "outputs": [
    {
     "name": "stdout",
     "output_type": "stream",
     "text": [
      "Key is: A\n",
      "             Name Class     Lectures  Grades  Credits Retake\n",
      "0  Benjamin Duran     A  Mathematics      90        6     No\n",
      "1  Benjamin Duran     A    Chemistry      54        6     No\n",
      "2  Benjamin Duran     A      Physics      77        6     No\n",
      "3  Benjamin Duran     A      History      22        5    Yes\n",
      "4  Benjamin Duran     A    Geography      25        5    Yes\n",
      "5  Benjamin Duran     A       German      70        4     No \n",
      "\n",
      "\n",
      "Key is: B\n",
      "              Name Class     Lectures  Grades  Credits Retake\n",
      "6   Safia hatfield     B  Mathematics      90        6     No\n",
      "7   Safia hatfield     B    Chemistry      90        6     No\n",
      "8   Safia hatfield     B      Physics      90        6     No\n",
      "9   Safia hatfield     B      History      45        5     No\n",
      "10  Safia hatfield     B    Geography      90        5     No\n",
      "11  Safia hatfield     B       German      90        4     No \n",
      "\n",
      "\n",
      "Key is: C\n",
      "          Name Class     Lectures  Grades  Credits Retake\n",
      "12  Toni Doyle     C  Mathematics      70        6     No\n",
      "13  Toni Doyle     C    Chemistry      44        6    Yes\n",
      "14  Toni Doyle     C      Physics      56        6     No\n",
      "15  Toni Doyle     C      History      77        5     No\n",
      "16  Toni Doyle     C    Geography      35        5    Yes\n",
      "17  Toni Doyle     C       German      99        4     No \n",
      "\n",
      "\n"
     ]
    }
   ],
   "source": [
    "grouped_obj = df.groupby([\"Class\"])\n",
    "for key, item in grouped_obj:\n",
    "    print(\"Key is: \" + str(key))\n",
    "    print(str(item), \"\\n\\n\")"
   ]
  },
  {
   "cell_type": "code",
   "execution_count": 25,
   "metadata": {},
   "outputs": [
    {
     "data": {
      "text/plain": [
       "Class\n",
       "A    56.333333\n",
       "B    82.500000\n",
       "C    63.500000\n",
       "Name: Grades, dtype: float64"
      ]
     },
     "execution_count": 25,
     "metadata": {},
     "output_type": "execute_result"
    }
   ],
   "source": [
    "#Group by class and obtain mean based on Grades\n",
    "\n",
    "df.groupby([\"Class\"])[\"Grades\"].mean()"
   ]
  },
  {
   "cell_type": "code",
   "execution_count": 26,
   "metadata": {},
   "outputs": [
    {
     "data": {
      "text/plain": [
       "Lectures\n",
       "Chemistry      62.666667\n",
       "Geography      50.000000\n",
       "German         86.333333\n",
       "History        48.000000\n",
       "Mathematics    83.333333\n",
       "Physics        74.333333\n",
       "Name: Grades, dtype: float64"
      ]
     },
     "execution_count": 26,
     "metadata": {},
     "output_type": "execute_result"
    }
   ],
   "source": [
    "#Group by Lectures and obtain mean based on Grades\n",
    "\n",
    "df.groupby([\"Lectures\"])[\"Grades\"].mean()"
   ]
  },
  {
   "cell_type": "code",
   "execution_count": 30,
   "metadata": {},
   "outputs": [
    {
     "name": "stdout",
     "output_type": "stream",
     "text": [
      "Name        Benjamin Duran\n",
      "Class                    A\n",
      "Lectures       Mathematics\n",
      "Grades                  90\n",
      "Credits                  6\n",
      "Retake                  No\n",
      "Name: 0, dtype: object\n"
     ]
    }
   ],
   "source": [
    "#information for Benjamin’s Mathematics lecture. returns the information in row 0\n",
    "\n",
    "Benjamin_Math  = df.iloc[0]\n",
    "print(Benjamin_Math)"
   ]
  },
  {
   "cell_type": "code",
   "execution_count": 33,
   "metadata": {},
   "outputs": [
    {
     "name": "stdout",
     "output_type": "stream",
     "text": [
      "             Name Class     Lectures  Grades  Credits Retake\n",
      "0  Benjamin Duran     A  Mathematics      90        6     No\n"
     ]
    }
   ],
   "source": [
    "#information for Benjamin’s Mathematics lecture. returns the information in based on the 2 filters\n",
    "\n",
    "Benjamin_Math =  df.loc[(df[\"Name\"]     ==\"Benjamin Duran\") &\n",
    "\n",
    "                (df[\"Lectures\"] == \"Mathematics\")]\n",
    "\n",
    "print(Benjamin_Math)"
   ]
  },
  {
   "cell_type": "code",
   "execution_count": 35,
   "metadata": {},
   "outputs": [
    {
     "name": "stdout",
     "output_type": "stream",
     "text": [
      "90\n"
     ]
    }
   ],
   "source": [
    "#access Benjamin’s Mathematics grade and store it in a variable\n",
    "\n",
    "grade = Benjamin_Math[\"Grades\"][0]\n",
    "print(grade)"
   ]
  },
  {
   "cell_type": "code",
   "execution_count": 37,
   "metadata": {},
   "outputs": [
    {
     "name": "stdout",
     "output_type": "stream",
     "text": [
      "0      No\n",
      "1      No\n",
      "2      No\n",
      "3     Yes\n",
      "4     Yes\n",
      "5      No\n",
      "6      No\n",
      "7      No\n",
      "8      No\n",
      "9      No\n",
      "10     No\n",
      "11     No\n",
      "12     No\n",
      "13    Yes\n",
      "14     No\n",
      "15     No\n",
      "16    Yes\n",
      "17     No\n",
      "Name: Retake, dtype: object\n"
     ]
    }
   ],
   "source": [
    "#How To Apply Functions In Pandas\n",
    "\n",
    "df[\"Retake\"] = df[\"Grades\"].apply(lambda val: \"Yes\" if val < 45 else \"No\")\n",
    "print(df[\"Retake\"])"
   ]
  },
  {
   "cell_type": "code",
   "execution_count": 39,
   "metadata": {},
   "outputs": [
    {
     "name": "stdout",
     "output_type": "stream",
     "text": [
      "    Credits  Grades\n",
      "0         6      90\n",
      "1         6      54\n",
      "2         6      77\n",
      "3         5      22\n",
      "4         5      25\n",
      "5         4      70\n",
      "6         6      90\n",
      "7         6      90\n",
      "8         6      90\n",
      "9         5      45\n",
      "10        5      90\n",
      "11        4      90\n",
      "12        6      70\n",
      "13        6      44\n",
      "14        6      56\n",
      "15        5      77\n",
      "16        5      35\n",
      "17        4      99\n"
     ]
    }
   ],
   "source": [
    "#apply a reduction operation to the whole DataFrame\n",
    "\n",
    "credits = df[[\"Credits\",\"Grades\"]]\n",
    "\n",
    "credits.apply(np.sum)\n",
    "print(credits)"
   ]
  },
  {
   "cell_type": "code",
   "execution_count": 40,
   "metadata": {},
   "outputs": [
    {
     "name": "stdout",
     "output_type": "stream",
     "text": [
      "    Credits  Grades\n",
      "0         6      90\n",
      "1         6      54\n",
      "2         6      77\n",
      "3         5      22\n",
      "4         5      25\n",
      "5         4      70\n",
      "6         6      90\n",
      "7         6      90\n",
      "8         6      90\n",
      "9         5      45\n",
      "10        5      90\n",
      "11        4      90\n",
      "12        6      70\n",
      "13        6      44\n",
      "14        6      56\n",
      "15        5      77\n",
      "16        5      35\n",
      "17        4      99\n"
     ]
    }
   ],
   "source": [
    "#apply the same summation operation to the columns\n",
    "\n",
    "credits.apply(np.sum, axis=1)\n",
    "print(credits)"
   ]
  },
  {
   "cell_type": "code",
   "execution_count": 44,
   "metadata": {},
   "outputs": [
    {
     "name": "stdout",
     "output_type": "stream",
     "text": [
      "0     9.0\n",
      "1     0.0\n",
      "2     0.0\n",
      "3     0.0\n",
      "4     0.0\n",
      "5     0.0\n",
      "6     9.0\n",
      "7     0.0\n",
      "8     0.0\n",
      "9     0.0\n",
      "10    7.5\n",
      "11    6.0\n",
      "12    0.0\n",
      "13    0.0\n",
      "14    0.0\n",
      "15    0.0\n",
      "16    0.0\n",
      "17    9.6\n",
      "Name: Bonus, dtype: float64\n"
     ]
    }
   ],
   "source": [
    "#Define the formula for calculating the credit bonus\n",
    "#Populate the each row within the Bonus column with the bonus value, or else 0 \n",
    "\n",
    "def bonus(lecture,grade,credits):\n",
    "    if (lecture in [\"Mathematics\",\"Geography\",\"German\"]) and grade > 75:\n",
    "        return (grade-75)/10*credits\n",
    "    else:\n",
    "        return 0\n",
    "\n",
    "#Create a new column called Bonus\n",
    "df[\"Bonus\"] = df.apply(lambda row: bonus(row[\"Lectures\"],row[\"Grades\"],row[\"Credits\"]), axis=1)\n",
    "\n",
    "print(df[\"Bonus\"])"
   ]
  },
  {
   "cell_type": "code",
   "execution_count": 45,
   "metadata": {},
   "outputs": [
    {
     "data": {
      "text/plain": [
       "0     90\n",
       "1     54\n",
       "2     77\n",
       "3     22\n",
       "4     25\n",
       "5     70\n",
       "6     90\n",
       "7     90\n",
       "8     90\n",
       "9     45\n",
       "10    90\n",
       "11    90\n",
       "12    70\n",
       "13    44\n",
       "14    56\n",
       "15    77\n",
       "16    35\n",
       "17    99\n",
       "Name: Grades, dtype: int64"
      ]
     },
     "execution_count": 45,
     "metadata": {},
     "output_type": "execute_result"
    }
   ],
   "source": [
    "#How To Access A Column In A DataFrame\n",
    "#If we wanted to access a certain column in our DataFrame, for example the Grades column, \n",
    "#we could simply use the loc function and specify the name of the column in order to retrieve it.\n",
    "\n",
    "df.loc[:,\"Grades\"]"
   ]
  },
  {
   "cell_type": "code",
   "execution_count": 46,
   "metadata": {},
   "outputs": [
    {
     "data": {
      "text/plain": [
       "0     90\n",
       "1     54\n",
       "2     77\n",
       "3     22\n",
       "4     25\n",
       "5     70\n",
       "6     90\n",
       "7     90\n",
       "8     90\n",
       "9     45\n",
       "10    90\n",
       "11    90\n",
       "12    70\n",
       "13    44\n",
       "14    56\n",
       "15    77\n",
       "16    35\n",
       "17    99\n",
       "Name: Grades, dtype: int64"
      ]
     },
     "execution_count": 46,
     "metadata": {},
     "output_type": "execute_result"
    }
   ],
   "source": [
    "#The same result above can also be obtained using the iloc function.\n",
    "\n",
    "df.iloc[:,3]"
   ]
  },
  {
   "cell_type": "code",
   "execution_count": 47,
   "metadata": {},
   "outputs": [
    {
     "data": {
      "text/html": [
       "<div>\n",
       "<style scoped>\n",
       "    .dataframe tbody tr th:only-of-type {\n",
       "        vertical-align: middle;\n",
       "    }\n",
       "\n",
       "    .dataframe tbody tr th {\n",
       "        vertical-align: top;\n",
       "    }\n",
       "\n",
       "    .dataframe thead th {\n",
       "        text-align: right;\n",
       "    }\n",
       "</style>\n",
       "<table border=\"1\" class=\"dataframe\">\n",
       "  <thead>\n",
       "    <tr style=\"text-align: right;\">\n",
       "      <th></th>\n",
       "      <th>Lectures</th>\n",
       "      <th>Grades</th>\n",
       "    </tr>\n",
       "  </thead>\n",
       "  <tbody>\n",
       "    <tr>\n",
       "      <th>0</th>\n",
       "      <td>Mathematics</td>\n",
       "      <td>90</td>\n",
       "    </tr>\n",
       "    <tr>\n",
       "      <th>1</th>\n",
       "      <td>Chemistry</td>\n",
       "      <td>54</td>\n",
       "    </tr>\n",
       "    <tr>\n",
       "      <th>2</th>\n",
       "      <td>Physics</td>\n",
       "      <td>77</td>\n",
       "    </tr>\n",
       "    <tr>\n",
       "      <th>3</th>\n",
       "      <td>History</td>\n",
       "      <td>22</td>\n",
       "    </tr>\n",
       "    <tr>\n",
       "      <th>4</th>\n",
       "      <td>Geography</td>\n",
       "      <td>25</td>\n",
       "    </tr>\n",
       "    <tr>\n",
       "      <th>5</th>\n",
       "      <td>German</td>\n",
       "      <td>70</td>\n",
       "    </tr>\n",
       "    <tr>\n",
       "      <th>6</th>\n",
       "      <td>Mathematics</td>\n",
       "      <td>90</td>\n",
       "    </tr>\n",
       "    <tr>\n",
       "      <th>7</th>\n",
       "      <td>Chemistry</td>\n",
       "      <td>90</td>\n",
       "    </tr>\n",
       "    <tr>\n",
       "      <th>8</th>\n",
       "      <td>Physics</td>\n",
       "      <td>90</td>\n",
       "    </tr>\n",
       "    <tr>\n",
       "      <th>9</th>\n",
       "      <td>History</td>\n",
       "      <td>45</td>\n",
       "    </tr>\n",
       "    <tr>\n",
       "      <th>10</th>\n",
       "      <td>Geography</td>\n",
       "      <td>90</td>\n",
       "    </tr>\n",
       "    <tr>\n",
       "      <th>11</th>\n",
       "      <td>German</td>\n",
       "      <td>90</td>\n",
       "    </tr>\n",
       "    <tr>\n",
       "      <th>12</th>\n",
       "      <td>Mathematics</td>\n",
       "      <td>70</td>\n",
       "    </tr>\n",
       "    <tr>\n",
       "      <th>13</th>\n",
       "      <td>Chemistry</td>\n",
       "      <td>44</td>\n",
       "    </tr>\n",
       "    <tr>\n",
       "      <th>14</th>\n",
       "      <td>Physics</td>\n",
       "      <td>56</td>\n",
       "    </tr>\n",
       "    <tr>\n",
       "      <th>15</th>\n",
       "      <td>History</td>\n",
       "      <td>77</td>\n",
       "    </tr>\n",
       "    <tr>\n",
       "      <th>16</th>\n",
       "      <td>Geography</td>\n",
       "      <td>35</td>\n",
       "    </tr>\n",
       "    <tr>\n",
       "      <th>17</th>\n",
       "      <td>German</td>\n",
       "      <td>99</td>\n",
       "    </tr>\n",
       "  </tbody>\n",
       "</table>\n",
       "</div>"
      ],
      "text/plain": [
       "       Lectures  Grades\n",
       "0   Mathematics      90\n",
       "1     Chemistry      54\n",
       "2       Physics      77\n",
       "3       History      22\n",
       "4     Geography      25\n",
       "5        German      70\n",
       "6   Mathematics      90\n",
       "7     Chemistry      90\n",
       "8       Physics      90\n",
       "9       History      45\n",
       "10    Geography      90\n",
       "11       German      90\n",
       "12  Mathematics      70\n",
       "13    Chemistry      44\n",
       "14      Physics      56\n",
       "15      History      77\n",
       "16    Geography      35\n",
       "17       German      99"
      ]
     },
     "execution_count": 47,
     "metadata": {},
     "output_type": "execute_result"
    }
   ],
   "source": [
    "#access multiple columns at once using the loc function by providing an array of arguments, as follows:\n",
    "\n",
    "df.loc[:,[\"Lectures\",\"Grades\"]]"
   ]
  },
  {
   "cell_type": "code",
   "execution_count": 48,
   "metadata": {},
   "outputs": [
    {
     "data": {
      "text/html": [
       "<div>\n",
       "<style scoped>\n",
       "    .dataframe tbody tr th:only-of-type {\n",
       "        vertical-align: middle;\n",
       "    }\n",
       "\n",
       "    .dataframe tbody tr th {\n",
       "        vertical-align: top;\n",
       "    }\n",
       "\n",
       "    .dataframe thead th {\n",
       "        text-align: right;\n",
       "    }\n",
       "</style>\n",
       "<table border=\"1\" class=\"dataframe\">\n",
       "  <thead>\n",
       "    <tr style=\"text-align: right;\">\n",
       "      <th></th>\n",
       "      <th>Lectures</th>\n",
       "      <th>Grades</th>\n",
       "    </tr>\n",
       "  </thead>\n",
       "  <tbody>\n",
       "    <tr>\n",
       "      <th>0</th>\n",
       "      <td>Mathematics</td>\n",
       "      <td>90</td>\n",
       "    </tr>\n",
       "    <tr>\n",
       "      <th>1</th>\n",
       "      <td>Chemistry</td>\n",
       "      <td>54</td>\n",
       "    </tr>\n",
       "    <tr>\n",
       "      <th>2</th>\n",
       "      <td>Physics</td>\n",
       "      <td>77</td>\n",
       "    </tr>\n",
       "    <tr>\n",
       "      <th>3</th>\n",
       "      <td>History</td>\n",
       "      <td>22</td>\n",
       "    </tr>\n",
       "    <tr>\n",
       "      <th>4</th>\n",
       "      <td>Geography</td>\n",
       "      <td>25</td>\n",
       "    </tr>\n",
       "    <tr>\n",
       "      <th>5</th>\n",
       "      <td>German</td>\n",
       "      <td>70</td>\n",
       "    </tr>\n",
       "    <tr>\n",
       "      <th>6</th>\n",
       "      <td>Mathematics</td>\n",
       "      <td>90</td>\n",
       "    </tr>\n",
       "    <tr>\n",
       "      <th>7</th>\n",
       "      <td>Chemistry</td>\n",
       "      <td>90</td>\n",
       "    </tr>\n",
       "    <tr>\n",
       "      <th>8</th>\n",
       "      <td>Physics</td>\n",
       "      <td>90</td>\n",
       "    </tr>\n",
       "    <tr>\n",
       "      <th>9</th>\n",
       "      <td>History</td>\n",
       "      <td>45</td>\n",
       "    </tr>\n",
       "    <tr>\n",
       "      <th>10</th>\n",
       "      <td>Geography</td>\n",
       "      <td>90</td>\n",
       "    </tr>\n",
       "    <tr>\n",
       "      <th>11</th>\n",
       "      <td>German</td>\n",
       "      <td>90</td>\n",
       "    </tr>\n",
       "    <tr>\n",
       "      <th>12</th>\n",
       "      <td>Mathematics</td>\n",
       "      <td>70</td>\n",
       "    </tr>\n",
       "    <tr>\n",
       "      <th>13</th>\n",
       "      <td>Chemistry</td>\n",
       "      <td>44</td>\n",
       "    </tr>\n",
       "    <tr>\n",
       "      <th>14</th>\n",
       "      <td>Physics</td>\n",
       "      <td>56</td>\n",
       "    </tr>\n",
       "    <tr>\n",
       "      <th>15</th>\n",
       "      <td>History</td>\n",
       "      <td>77</td>\n",
       "    </tr>\n",
       "    <tr>\n",
       "      <th>16</th>\n",
       "      <td>Geography</td>\n",
       "      <td>35</td>\n",
       "    </tr>\n",
       "    <tr>\n",
       "      <th>17</th>\n",
       "      <td>German</td>\n",
       "      <td>99</td>\n",
       "    </tr>\n",
       "  </tbody>\n",
       "</table>\n",
       "</div>"
      ],
      "text/plain": [
       "       Lectures  Grades\n",
       "0   Mathematics      90\n",
       "1     Chemistry      54\n",
       "2       Physics      77\n",
       "3       History      22\n",
       "4     Geography      25\n",
       "5        German      70\n",
       "6   Mathematics      90\n",
       "7     Chemistry      90\n",
       "8       Physics      90\n",
       "9       History      45\n",
       "10    Geography      90\n",
       "11       German      90\n",
       "12  Mathematics      70\n",
       "13    Chemistry      44\n",
       "14      Physics      56\n",
       "15      History      77\n",
       "16    Geography      35\n",
       "17       German      99"
      ]
     },
     "execution_count": 48,
     "metadata": {},
     "output_type": "execute_result"
    }
   ],
   "source": [
    "#To obtain the same result with the iloc function we would provide an array of integers for the second argument\n",
    "\n",
    "df.iloc[:,[2,3]]"
   ]
  },
  {
   "cell_type": "code",
   "execution_count": 53,
   "metadata": {},
   "outputs": [
    {
     "name": "stdout",
     "output_type": "stream",
     "text": [
      "[]\n",
      "Empty DataFrame\n",
      "Columns: []\n",
      "Index: [0, 1, 2, 3, 4, 5, 6, 7, 8, 9, 10, 11, 12, 13, 14, 15, 16, 17]\n"
     ]
    }
   ],
   "source": [
    "#Cleaning Data\n",
    "#dealing with NaNs (Not a Number values).\n",
    "\n",
    "nans_indices = df.columns[df.isna().any()].tolist()\n",
    "print(nans_indices)\n",
    "\n",
    "nans = df.loc[:,nans_indices]\n",
    "print(nans)"
   ]
  },
  {
   "cell_type": "code",
   "execution_count": 55,
   "metadata": {},
   "outputs": [
    {
     "data": {
      "text/plain": [
       "array([[<AxesSubplot:title={'center':'Grades'}>]], dtype=object)"
      ]
     },
     "execution_count": 55,
     "metadata": {},
     "output_type": "execute_result"
    },
    {
     "data": {
      "image/png": "[encoded data removed]",
      "text/plain": [
       "<Figure size 432x288 with 1 Axes>"
      ]
     },
     "metadata": {
      "needs_background": "light"
     },
     "output_type": "display_data"
    }
   ],
   "source": [
    "#Visualization\n",
    "\n",
    "df.loc[:,[\"Grades\"]].hist()"
   ]
  },
  {
   "cell_type": "code",
   "execution_count": 56,
   "metadata": {},
   "outputs": [
    {
     "name": "stdout",
     "output_type": "stream",
     "text": [
      "              Name Class     Lectures  Grades  Credits  Bonus\n",
      "0   Benjamin Duran     A  Mathematics      90        6    9.0\n",
      "1   Benjamin Duran     A    Chemistry      54        6    0.0\n",
      "2   Benjamin Duran     A      Physics      77        6    0.0\n",
      "3   Benjamin Duran     A      History      22        5    0.0\n",
      "4   Benjamin Duran     A    Geography      25        5    0.0\n",
      "5   Benjamin Duran     A       German      70        4    0.0\n",
      "6   Safia hatfield     B  Mathematics      90        6    9.0\n",
      "7   Safia hatfield     B    Chemistry      90        6    0.0\n",
      "8   Safia hatfield     B      Physics      90        6    0.0\n",
      "9   Safia hatfield     B      History      45        5    0.0\n",
      "10  Safia hatfield     B    Geography      90        5    7.5\n",
      "11  Safia hatfield     B       German      90        4    6.0\n",
      "12      Toni Doyle     C  Mathematics      70        6    0.0\n",
      "13      Toni Doyle     C    Chemistry      44        6    0.0\n",
      "14      Toni Doyle     C      Physics      56        6    0.0\n",
      "15      Toni Doyle     C      History      77        5    0.0\n",
      "16      Toni Doyle     C    Geography      35        5    0.0\n",
      "17      Toni Doyle     C       German      99        4    9.6\n"
     ]
    }
   ],
   "source": [
    "#How To Delete A Column/Row From A DataFrame\n",
    "\n",
    "#the name of the column to be dropped (Retake) \n",
    "#An axis value of 1 to signify we want to delete a column \n",
    "#An inplace value of True to make sure we delete the column from the original DataFrame. \n",
    "#If we don’t use the inplace=True argument our drop function will return a copy of the \n",
    "#initial DataFrame with the Retake column deleted, which is sometimes not desirable \n",
    "#if we are working with a relatively big DataFrame.\n",
    "\n",
    "df.drop(\"Retake\",axis=1,inplace=True)\n",
    "print(df)"
   ]
  },
  {
   "cell_type": "code",
   "execution_count": null,
   "metadata": {},
   "outputs": [],
   "source": [
    "#Dropping the rows\n",
    "#dropping the 6th row\n",
    "\n",
    "df.drop(5,axis=0,inplace=True)"
   ]
  },
  {
   "cell_type": "code",
   "execution_count": null,
   "metadata": {},
   "outputs": [],
   "source": [
    "#Dropping where lecture is German\n",
    "\n",
    "df.drop(df.index[(df[\"Lectures\"] == \"German\")],axis=0,inplace=True)"
   ]
  },
  {
   "cell_type": "code",
   "execution_count": null,
   "metadata": {},
   "outputs": [],
   "source": [
    "#to delete our entire DataFrame\n",
    "\n",
    "del df"
   ]
  },
  {
   "cell_type": "code",
   "execution_count": 57,
   "metadata": {},
   "outputs": [
    {
     "data": {
      "text/plain": [
       "90"
      ]
     },
     "execution_count": 57,
     "metadata": {},
     "output_type": "execute_result"
    }
   ],
   "source": [
    "#How To Access An Element In Pandas\n",
    "#use the following function to get the Mathematics grade for Benjamin using the at function\n",
    "\n",
    "df.loc[0].at[\"Grades\"]"
   ]
  },
  {
   "cell_type": "code",
   "execution_count": 58,
   "metadata": {},
   "outputs": [
    {
     "data": {
      "text/plain": [
       "Name        Benjamin Duran\n",
       "Class                    A\n",
       "Lectures       Mathematics\n",
       "Grades                  90\n",
       "Credits                  6\n",
       "Bonus                    9\n",
       "Name: 0, dtype: object"
      ]
     },
     "execution_count": 58,
     "metadata": {},
     "output_type": "execute_result"
    }
   ],
   "source": [
    "#To verify we have gotten it correctly\n",
    "df.loc[0] "
   ]
  },
  {
   "cell_type": "code",
   "execution_count": 59,
   "metadata": {},
   "outputs": [
    {
     "data": {
      "text/plain": [
       "90"
      ]
     },
     "execution_count": 59,
     "metadata": {},
     "output_type": "execute_result"
    }
   ],
   "source": [
    "#Pandas also provides an iat function, which we can use to index the value we want using the integer-valued indices\n",
    "\n",
    "df.loc[0].iat[3]"
   ]
  },
  {
   "cell_type": "code",
   "execution_count": 60,
   "metadata": {},
   "outputs": [
    {
     "data": {
      "text/plain": [
       "90"
      ]
     },
     "execution_count": 60,
     "metadata": {},
     "output_type": "execute_result"
    }
   ],
   "source": [
    "#Shorthand notation\n",
    "\n",
    "df.at[0,\"Grades\"]\n",
    "df.iat[0,3]"
   ]
  },
  {
   "cell_type": "code",
   "execution_count": null,
   "metadata": {},
   "outputs": [],
   "source": []
  }
 ],
 "metadata": {
  "kernelspec": {
   "display_name": "Python 3",
   "language": "python",
   "name": "python3"
  },
  "language_info": {
   "codemirror_mode": {
    "name": "ipython",
    "version": 3
   },
   "file_extension": ".py",
   "mimetype": "text/x-python",
   "name": "python",
   "nbconvert_exporter": "python",
   "pygments_lexer": "ipython3",
   "version": "3.8.5"
  }
 },
 "nbformat": 4,
 "nbformat_minor": 4
}
